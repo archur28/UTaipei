{
 "cells": [
  {
   "cell_type": "code",
   "execution_count": 1,
   "metadata": {},
   "outputs": [
    {
     "name": "stdout",
     "output_type": "stream",
     "text": [
      "Requirement already satisfied: pandas in c:\\users\\archur\\anaconda3\\lib\\site-packages (1.0.1)\n",
      "Requirement already satisfied: pytz>=2017.2 in c:\\users\\archur\\anaconda3\\lib\\site-packages (from pandas) (2019.3)\n",
      "Requirement already satisfied: numpy>=1.13.3 in c:\\users\\archur\\anaconda3\\lib\\site-packages (from pandas) (1.18.1)\n",
      "Requirement already satisfied: python-dateutil>=2.6.1 in c:\\users\\archur\\anaconda3\\lib\\site-packages (from pandas) (2.8.1)\n",
      "Requirement already satisfied: six>=1.5 in c:\\users\\archur\\anaconda3\\lib\\site-packages (from python-dateutil>=2.6.1->pandas) (1.14.0)\n",
      "Note: you may need to restart the kernel to use updated packages.\n"
     ]
    }
   ],
   "source": [
    "pip install pandas  "
   ]
  },
  {
   "cell_type": "markdown",
   "metadata": {},
   "source": [
    "read csv "
   ]
  },
  {
   "cell_type": "code",
   "execution_count": 22,
   "metadata": {},
   "outputs": [
    {
     "name": "stdout",
     "output_type": "stream",
     "text": [
      "                      Date   Page_Name          Page_ID  Link    Type  \\\n",
      "0      2019/11/01 09:44:03  余天 Yu Tian  184889114896212   NaN   video   \n",
      "1      2019/09/18 17:38:31         賴品妤  102499747817312   NaN   photo   \n",
      "2      2020/01/10 17:21:05  余天 Yu Tian  184889114896212   NaN   video   \n",
      "3      2020/01/07 22:41:02      羅致政粉絲團  182836328407031   NaN   video   \n",
      "4      2020/01/11 11:51:36         賴品妤  102499747817312   NaN   photo   \n",
      "...                    ...         ...              ...   ...     ...   \n",
      "12603  2019/12/03 20:47:57     黃志雄&洪佳君  192038527523436   NaN  status   \n",
      "12604  2019/12/07 17:59:37         羅明才  186040511466669   NaN  status   \n",
      "12605  2019/12/18 10:52:38  余天 Yu Tian  184889114896212   NaN   photo   \n",
      "12606  2019/12/18 21:47:32         柯志恩  911433142308383   NaN   photo   \n",
      "12607  2019/12/30 12:03:17         吳琪銘  622028857838106   NaN    link   \n",
      "\n",
      "       All_Reaction_Count  LIKE_COUNT  WOW_COUNT  LOVE_COUNT  HAHA_COUNT  \\\n",
      "0                  141559      131345         71        8086          34   \n",
      "1                   27126       23611         46        1647        1766   \n",
      "2                   22177       21529         11         456          22   \n",
      "3                   17915       17353         16         347         122   \n",
      "4                   19769       17059         13        1790         900   \n",
      "...                   ...         ...        ...         ...         ...   \n",
      "12603                   0           0          0           0           0   \n",
      "12604                   0           0          0           0           0   \n",
      "12605                   0           0          0           0           0   \n",
      "12606                   0           0          0           0           0   \n",
      "12607                   0           0          0           0           0   \n",
      "\n",
      "       SAD_COUNT  ANGRY_COUNT  Comment_Count  Share_Count  \\\n",
      "0           2003           20          14917         1975   \n",
      "1              5           51           1916         1444   \n",
      "2            120           39            785          278   \n",
      "3             10           67           1439         1034   \n",
      "4              2            5            857           86   \n",
      "...          ...          ...            ...          ...   \n",
      "12603          0            0              0            0   \n",
      "12604          0            0              0            0   \n",
      "12605          0            0              0            0   \n",
      "12606          0            0              0            0   \n",
      "12607          0            0              0            0   \n",
      "\n",
      "                                                 Message  \\\n",
      "0      「女兒妳堅強，我就放心」\\n「爸爸，你也要顧好自己的身體」\\n\\n擔心女兒化療吃不下\\n這幾...   \n",
      "1      很多人是從五年前的三一八運動才開始認識賴品妤，那天晚上我用雙手撐住立法院議場的大門，阻擋服貿...   \n",
      "2      選前之夜彩蛋搶先曝光！\\n\\n余天給三重的一封信！\\n余苑綺：爸爸加油！我一定會好起來，謝謝...   \n",
      "3      鍾年晃是資深媒體人，也是我的苗栗同鄉。\\n他來幫我助選時，說了一段發人深省話，他說：民進黨每...   \n",
      "4                                剛剛我已經把票投好囉😍\\n怎麼還有人沒出門勒😗   \n",
      "...                                                  ...   \n",
      "12603  \b#用熱情的力量翻轉地方\\n\\n有人形容，熱情就是太陽。因為在這個環境裡，熱情會延伸許多好的...   \n",
      "12604                                                NaN   \n",
      "12605                                                NaN   \n",
      "12606                                                NaN   \n",
      "12607  【又是假消息⚠️小編宣導時間】\\n\\n餒，聽說網路上流傳著「吸毒品無罪」及「持有3、4級毒品...   \n",
      "\n",
      "                     Link_Title Link Description   created_time  \n",
      "0                           NaN              NaN  1572572643000  \n",
      "1                           NaN              NaN  1568799511000  \n",
      "2                    余天給三重的一封信！              NaN  1578648065000  \n",
      "3        鍾年晃：下架吳斯懷還不夠，我們要下架國民黨！              NaN  1578408062000  \n",
      "4                           NaN              NaN  1578714696000  \n",
      "...                         ...              ...            ...  \n",
      "12603                       NaN              NaN  1575377277000  \n",
      "12604                       NaN              NaN  1575712777000  \n",
      "12605  余天 Yu Tian's cover photo              NaN  1576637558000  \n",
      "12606         柯志恩's cover photo              NaN  1576676852000  \n",
      "12607           縮短網址產生器 - reurl              NaN  1577678597000  \n",
      "\n",
      "[12608 rows x 18 columns]\n"
     ]
    }
   ],
   "source": [
    "import pandas as pd\n",
    "df = pd.read_csv(\"10802_2020 NewTaipeiCity Legislators candidates.csv\")\n",
    "print(df)"
   ]
  },
  {
   "cell_type": "code",
   "execution_count": 6,
   "metadata": {},
   "outputs": [
    {
     "data": {
      "text/html": [
       "<div>\n",
       "<style scoped>\n",
       "    .dataframe tbody tr th:only-of-type {\n",
       "        vertical-align: middle;\n",
       "    }\n",
       "\n",
       "    .dataframe tbody tr th {\n",
       "        vertical-align: top;\n",
       "    }\n",
       "\n",
       "    .dataframe thead th {\n",
       "        text-align: right;\n",
       "    }\n",
       "</style>\n",
       "<table border=\"1\" class=\"dataframe\">\n",
       "  <thead>\n",
       "    <tr style=\"text-align: right;\">\n",
       "      <th></th>\n",
       "      <th>Date</th>\n",
       "      <th>Page_Name</th>\n",
       "      <th>Page_ID</th>\n",
       "      <th>Link</th>\n",
       "      <th>Type</th>\n",
       "      <th>All_Reaction_Count</th>\n",
       "      <th>LIKE_COUNT</th>\n",
       "      <th>WOW_COUNT</th>\n",
       "      <th>LOVE_COUNT</th>\n",
       "      <th>HAHA_COUNT</th>\n",
       "      <th>SAD_COUNT</th>\n",
       "      <th>ANGRY_COUNT</th>\n",
       "      <th>Comment_Count</th>\n",
       "      <th>Share_Count</th>\n",
       "      <th>Message</th>\n",
       "      <th>Link_Title</th>\n",
       "      <th>Link Description</th>\n",
       "      <th>created_time</th>\n",
       "    </tr>\n",
       "  </thead>\n",
       "  <tbody>\n",
       "    <tr>\n",
       "      <th>0</th>\n",
       "      <td>2019/11/01 09:44:03</td>\n",
       "      <td>余天 Yu Tian</td>\n",
       "      <td>184889114896212</td>\n",
       "      <td>NaN</td>\n",
       "      <td>video</td>\n",
       "      <td>141559</td>\n",
       "      <td>131345</td>\n",
       "      <td>71</td>\n",
       "      <td>8086</td>\n",
       "      <td>34</td>\n",
       "      <td>2003</td>\n",
       "      <td>20</td>\n",
       "      <td>14917</td>\n",
       "      <td>1975</td>\n",
       "      <td>「女兒妳堅強，我就放心」\\n「爸爸，你也要顧好自己的身體」\\n\\n擔心女兒化療吃不下\\n這幾...</td>\n",
       "      <td>NaN</td>\n",
       "      <td>NaN</td>\n",
       "      <td>1572572643000</td>\n",
       "    </tr>\n",
       "    <tr>\n",
       "      <th>1</th>\n",
       "      <td>2019/09/18 17:38:31</td>\n",
       "      <td>賴品妤</td>\n",
       "      <td>102499747817312</td>\n",
       "      <td>NaN</td>\n",
       "      <td>photo</td>\n",
       "      <td>27126</td>\n",
       "      <td>23611</td>\n",
       "      <td>46</td>\n",
       "      <td>1647</td>\n",
       "      <td>1766</td>\n",
       "      <td>5</td>\n",
       "      <td>51</td>\n",
       "      <td>1916</td>\n",
       "      <td>1444</td>\n",
       "      <td>很多人是從五年前的三一八運動才開始認識賴品妤，那天晚上我用雙手撐住立法院議場的大門，阻擋服貿...</td>\n",
       "      <td>NaN</td>\n",
       "      <td>NaN</td>\n",
       "      <td>1568799511000</td>\n",
       "    </tr>\n",
       "    <tr>\n",
       "      <th>2</th>\n",
       "      <td>2020/01/10 17:21:05</td>\n",
       "      <td>余天 Yu Tian</td>\n",
       "      <td>184889114896212</td>\n",
       "      <td>NaN</td>\n",
       "      <td>video</td>\n",
       "      <td>22177</td>\n",
       "      <td>21529</td>\n",
       "      <td>11</td>\n",
       "      <td>456</td>\n",
       "      <td>22</td>\n",
       "      <td>120</td>\n",
       "      <td>39</td>\n",
       "      <td>785</td>\n",
       "      <td>278</td>\n",
       "      <td>選前之夜彩蛋搶先曝光！\\n\\n余天給三重的一封信！\\n余苑綺：爸爸加油！我一定會好起來，謝謝...</td>\n",
       "      <td>余天給三重的一封信！</td>\n",
       "      <td>NaN</td>\n",
       "      <td>1578648065000</td>\n",
       "    </tr>\n",
       "    <tr>\n",
       "      <th>3</th>\n",
       "      <td>2020/01/07 22:41:02</td>\n",
       "      <td>羅致政粉絲團</td>\n",
       "      <td>182836328407031</td>\n",
       "      <td>NaN</td>\n",
       "      <td>video</td>\n",
       "      <td>17915</td>\n",
       "      <td>17353</td>\n",
       "      <td>16</td>\n",
       "      <td>347</td>\n",
       "      <td>122</td>\n",
       "      <td>10</td>\n",
       "      <td>67</td>\n",
       "      <td>1439</td>\n",
       "      <td>1034</td>\n",
       "      <td>鍾年晃是資深媒體人，也是我的苗栗同鄉。\\n他來幫我助選時，說了一段發人深省話，他說：民進黨每...</td>\n",
       "      <td>鍾年晃：下架吳斯懷還不夠，我們要下架國民黨！</td>\n",
       "      <td>NaN</td>\n",
       "      <td>1578408062000</td>\n",
       "    </tr>\n",
       "    <tr>\n",
       "      <th>4</th>\n",
       "      <td>2020/01/11 11:51:36</td>\n",
       "      <td>賴品妤</td>\n",
       "      <td>102499747817312</td>\n",
       "      <td>NaN</td>\n",
       "      <td>photo</td>\n",
       "      <td>19769</td>\n",
       "      <td>17059</td>\n",
       "      <td>13</td>\n",
       "      <td>1790</td>\n",
       "      <td>900</td>\n",
       "      <td>2</td>\n",
       "      <td>5</td>\n",
       "      <td>857</td>\n",
       "      <td>86</td>\n",
       "      <td>剛剛我已經把票投好囉😍\\n怎麼還有人沒出門勒😗</td>\n",
       "      <td>NaN</td>\n",
       "      <td>NaN</td>\n",
       "      <td>1578714696000</td>\n",
       "    </tr>\n",
       "  </tbody>\n",
       "</table>\n",
       "</div>"
      ],
      "text/plain": [
       "                  Date   Page_Name          Page_ID  Link   Type  \\\n",
       "0  2019/11/01 09:44:03  余天 Yu Tian  184889114896212   NaN  video   \n",
       "1  2019/09/18 17:38:31         賴品妤  102499747817312   NaN  photo   \n",
       "2  2020/01/10 17:21:05  余天 Yu Tian  184889114896212   NaN  video   \n",
       "3  2020/01/07 22:41:02      羅致政粉絲團  182836328407031   NaN  video   \n",
       "4  2020/01/11 11:51:36         賴品妤  102499747817312   NaN  photo   \n",
       "\n",
       "   All_Reaction_Count  LIKE_COUNT  WOW_COUNT  LOVE_COUNT  HAHA_COUNT  \\\n",
       "0              141559      131345         71        8086          34   \n",
       "1               27126       23611         46        1647        1766   \n",
       "2               22177       21529         11         456          22   \n",
       "3               17915       17353         16         347         122   \n",
       "4               19769       17059         13        1790         900   \n",
       "\n",
       "   SAD_COUNT  ANGRY_COUNT  Comment_Count  Share_Count  \\\n",
       "0       2003           20          14917         1975   \n",
       "1          5           51           1916         1444   \n",
       "2        120           39            785          278   \n",
       "3         10           67           1439         1034   \n",
       "4          2            5            857           86   \n",
       "\n",
       "                                             Message              Link_Title  \\\n",
       "0  「女兒妳堅強，我就放心」\\n「爸爸，你也要顧好自己的身體」\\n\\n擔心女兒化療吃不下\\n這幾...                     NaN   \n",
       "1  很多人是從五年前的三一八運動才開始認識賴品妤，那天晚上我用雙手撐住立法院議場的大門，阻擋服貿...                     NaN   \n",
       "2  選前之夜彩蛋搶先曝光！\\n\\n余天給三重的一封信！\\n余苑綺：爸爸加油！我一定會好起來，謝謝...              余天給三重的一封信！   \n",
       "3  鍾年晃是資深媒體人，也是我的苗栗同鄉。\\n他來幫我助選時，說了一段發人深省話，他說：民進黨每...  鍾年晃：下架吳斯懷還不夠，我們要下架國民黨！   \n",
       "4                            剛剛我已經把票投好囉😍\\n怎麼還有人沒出門勒😗                     NaN   \n",
       "\n",
       "  Link Description   created_time  \n",
       "0              NaN  1572572643000  \n",
       "1              NaN  1568799511000  \n",
       "2              NaN  1578648065000  \n",
       "3              NaN  1578408062000  \n",
       "4              NaN  1578714696000  "
      ]
     },
     "execution_count": 6,
     "metadata": {},
     "output_type": "execute_result"
    }
   ],
   "source": [
    "df.head()"
   ]
  },
  {
   "cell_type": "code",
   "execution_count": 16,
   "metadata": {},
   "outputs": [],
   "source": [
    "Candidates = df.groupby(\"Page_Name\")"
   ]
  },
  {
   "cell_type": "code",
   "execution_count": 14,
   "metadata": {},
   "outputs": [],
   "source": [
    "P1 = Candidates.get_group(\"余天 Yu Tian\")['LIKE_COUNT'].agg('sum')"
   ]
  },
  {
   "cell_type": "code",
   "execution_count": 24,
   "metadata": {},
   "outputs": [],
   "source": [
    "P2 = Candidates.get_group(\"賴品妤\")['LIKE_COUNT'].agg('sum')"
   ]
  },
  {
   "cell_type": "code",
   "execution_count": 18,
   "metadata": {},
   "outputs": [],
   "source": [
    "P3 = Candidates.get_group(\"羅致政粉絲團\")['LIKE_COUNT'].agg('sum')"
   ]
  },
  {
   "cell_type": "code",
   "execution_count": 19,
   "metadata": {},
   "outputs": [],
   "source": [
    "P4 = Candidates.get_group(\"黃志雄&洪佳君\")['LIKE_COUNT'].agg('sum')"
   ]
  },
  {
   "cell_type": "code",
   "execution_count": 20,
   "metadata": {},
   "outputs": [],
   "source": [
    "P5 = Candidates.get_group(\"羅明才\")['LIKE_COUNT'].agg('sum')"
   ]
  },
  {
   "cell_type": "code",
   "execution_count": 21,
   "metadata": {},
   "outputs": [],
   "source": [
    "P6 = Candidates.get_group(\"柯志恩\")['LIKE_COUNT'].agg('sum')"
   ]
  },
  {
   "cell_type": "code",
   "execution_count": 22,
   "metadata": {},
   "outputs": [],
   "source": [
    "P7 = Candidates.get_group(\"吳琪銘\")['LIKE_COUNT'].agg('sum')"
   ]
  },
  {
   "cell_type": "code",
   "execution_count": 25,
   "metadata": {},
   "outputs": [],
   "source": [
    "P8 = Candidates.get_group(\"余天 Yu Tian\")['Share_Count'].agg('sum')"
   ]
  },
  {
   "cell_type": "code",
   "execution_count": 26,
   "metadata": {},
   "outputs": [],
   "source": [
    "P9 = Candidates.get_group(\"賴品妤\")['Share_Count'].agg('sum')"
   ]
  },
  {
   "cell_type": "code",
   "execution_count": 27,
   "metadata": {},
   "outputs": [],
   "source": [
    "P10 = Candidates.get_group(\"羅致政粉絲團\")['Share_Count'].agg('sum')"
   ]
  },
  {
   "cell_type": "code",
   "execution_count": 28,
   "metadata": {},
   "outputs": [],
   "source": [
    "P11 = Candidates.get_group(\"黃志雄&洪佳君\")['Share_Count'].agg('sum')"
   ]
  },
  {
   "cell_type": "code",
   "execution_count": 29,
   "metadata": {},
   "outputs": [],
   "source": [
    "P12 = Candidates.get_group(\"羅明才\")['Share_Count'].agg('sum')"
   ]
  },
  {
   "cell_type": "code",
   "execution_count": 30,
   "metadata": {},
   "outputs": [],
   "source": [
    "P13 = Candidates.get_group(\"柯志恩\")['Share_Count'].agg('sum')"
   ]
  },
  {
   "cell_type": "code",
   "execution_count": 31,
   "metadata": {},
   "outputs": [],
   "source": [
    "P14 = Candidates.get_group(\"吳琪銘\")['Share_Count'].agg('sum')"
   ]
  },
  {
   "cell_type": "code",
   "execution_count": 34,
   "metadata": {},
   "outputs": [],
   "source": [
    "data = {'Name':['Yu Tian', 'Lai27', 'LoChiCheng', 'Huang&Hong', 'LoMinChia', 'KoChiAn', 'WuChiMin'],\n",
    "        'Like':[P1, P2, P3, P4, P5, P6, P7], 'Share':[P8, P9, P10, P11, P12, P13, P14]}"
   ]
  },
  {
   "cell_type": "code",
   "execution_count": 35,
   "metadata": {},
   "outputs": [],
   "source": [
    "LikeNShareData = pd.DataFrame(data)"
   ]
  },
  {
   "cell_type": "code",
   "execution_count": 47,
   "metadata": {},
   "outputs": [
    {
     "data": {
      "text/html": [
       "<div>\n",
       "<style scoped>\n",
       "    .dataframe tbody tr th:only-of-type {\n",
       "        vertical-align: middle;\n",
       "    }\n",
       "\n",
       "    .dataframe tbody tr th {\n",
       "        vertical-align: top;\n",
       "    }\n",
       "\n",
       "    .dataframe thead th {\n",
       "        text-align: right;\n",
       "    }\n",
       "</style>\n",
       "<table border=\"1\" class=\"dataframe\">\n",
       "  <thead>\n",
       "    <tr style=\"text-align: right;\">\n",
       "      <th></th>\n",
       "      <th>Name</th>\n",
       "      <th>Like</th>\n",
       "      <th>Share</th>\n",
       "    </tr>\n",
       "  </thead>\n",
       "  <tbody>\n",
       "    <tr>\n",
       "      <th>0</th>\n",
       "      <td>Yu Tian</td>\n",
       "      <td>957592</td>\n",
       "      <td>30636</td>\n",
       "    </tr>\n",
       "    <tr>\n",
       "      <th>1</th>\n",
       "      <td>Lai27</td>\n",
       "      <td>909296</td>\n",
       "      <td>24206</td>\n",
       "    </tr>\n",
       "    <tr>\n",
       "      <th>2</th>\n",
       "      <td>LoChiCheng</td>\n",
       "      <td>721684</td>\n",
       "      <td>14172</td>\n",
       "    </tr>\n",
       "    <tr>\n",
       "      <th>3</th>\n",
       "      <td>Huang&amp;Hong</td>\n",
       "      <td>69992</td>\n",
       "      <td>1568</td>\n",
       "    </tr>\n",
       "    <tr>\n",
       "      <th>4</th>\n",
       "      <td>LoMinChia</td>\n",
       "      <td>51918</td>\n",
       "      <td>1218</td>\n",
       "    </tr>\n",
       "    <tr>\n",
       "      <th>5</th>\n",
       "      <td>KoChiAn</td>\n",
       "      <td>1414383</td>\n",
       "      <td>27846</td>\n",
       "    </tr>\n",
       "    <tr>\n",
       "      <th>6</th>\n",
       "      <td>WuChiMin</td>\n",
       "      <td>327794</td>\n",
       "      <td>8287</td>\n",
       "    </tr>\n",
       "  </tbody>\n",
       "</table>\n",
       "</div>"
      ],
      "text/plain": [
       "         Name     Like  Share\n",
       "0     Yu Tian   957592  30636\n",
       "1       Lai27   909296  24206\n",
       "2  LoChiCheng   721684  14172\n",
       "3  Huang&Hong    69992   1568\n",
       "4   LoMinChia    51918   1218\n",
       "5     KoChiAn  1414383  27846\n",
       "6    WuChiMin   327794   8287"
      ]
     },
     "execution_count": 47,
     "metadata": {},
     "output_type": "execute_result"
    }
   ],
   "source": [
    "LikeNShareData"
   ]
  },
  {
   "cell_type": "code",
   "execution_count": 48,
   "metadata": {},
   "outputs": [
    {
     "data": {
      "text/plain": [
       "<matplotlib.axes._subplots.AxesSubplot at 0x13bfbe85848>"
      ]
     },
     "execution_count": 48,
     "metadata": {},
     "output_type": "execute_result"
    },
    {
     "data": {
      "image/png": "[encoded data removed]",
      "text/plain": [
       "<Figure size 432x288 with 1 Axes>"
      ]
     },
     "metadata": {
      "needs_background": "light"
     },
     "output_type": "display_data"
    }
   ],
   "source": [
    "LikeNShareData.plot.bar(x='Name', y='Like')"
   ]
  },
  {
   "cell_type": "code",
   "execution_count": 49,
   "metadata": {},
   "outputs": [],
   "source": [
    "import numpy as np\n",
    "import matplotlib.pyplot as plt"
   ]
  },
  {
   "cell_type": "code",
   "execution_count": 56,
   "metadata": {},
   "outputs": [
    {
     "data": {
      "text/plain": [
       "<matplotlib.axes._subplots.AxesSubplot at 0x13bfd1d4f08>"
      ]
     },
     "execution_count": 56,
     "metadata": {},
     "output_type": "execute_result"
    },
    {
     "data": {
      "image/png": "[encoded data removed]",
      "text/plain": [
       "<Figure size 432x288 with 1 Axes>"
      ]
     },
     "metadata": {
      "needs_background": "light"
     },
     "output_type": "display_data"
    }
   ],
   "source": [
    "LikeNShareData.plot.bar(x='Name', y='Share', color=['red','green','blue','black','pink','yellow','grey'])"
   ]
  },
  {
   "cell_type": "code",
   "execution_count": null,
   "metadata": {},
   "outputs": [],
   "source": [
    "split date value."
   ]
  },
  {
   "cell_type": "code",
   "execution_count": 23,
   "metadata": {
    "scrolled": true
   },
   "outputs": [
    {
     "data": {
      "text/html": [
       "<div>\n",
       "<style scoped>\n",
       "    .dataframe tbody tr th:only-of-type {\n",
       "        vertical-align: middle;\n",
       "    }\n",
       "\n",
       "    .dataframe tbody tr th {\n",
       "        vertical-align: top;\n",
       "    }\n",
       "\n",
       "    .dataframe thead th {\n",
       "        text-align: right;\n",
       "    }\n",
       "</style>\n",
       "<table border=\"1\" class=\"dataframe\">\n",
       "  <thead>\n",
       "    <tr style=\"text-align: right;\">\n",
       "      <th></th>\n",
       "      <th>Date</th>\n",
       "      <th>Page_Name</th>\n",
       "      <th>Page_ID</th>\n",
       "      <th>Link</th>\n",
       "      <th>Type</th>\n",
       "      <th>All_Reaction_Count</th>\n",
       "      <th>LIKE_COUNT</th>\n",
       "      <th>WOW_COUNT</th>\n",
       "      <th>LOVE_COUNT</th>\n",
       "      <th>HAHA_COUNT</th>\n",
       "      <th>SAD_COUNT</th>\n",
       "      <th>ANGRY_COUNT</th>\n",
       "      <th>Comment_Count</th>\n",
       "      <th>Share_Count</th>\n",
       "      <th>Message</th>\n",
       "      <th>Link_Title</th>\n",
       "      <th>Link Description</th>\n",
       "      <th>created_time</th>\n",
       "    </tr>\n",
       "  </thead>\n",
       "  <tbody>\n",
       "    <tr>\n",
       "      <th>0</th>\n",
       "      <td>2019/11/01 09:44:03</td>\n",
       "      <td>余天 Yu Tian</td>\n",
       "      <td>184889114896212</td>\n",
       "      <td>NaN</td>\n",
       "      <td>video</td>\n",
       "      <td>141559</td>\n",
       "      <td>131345</td>\n",
       "      <td>71</td>\n",
       "      <td>8086</td>\n",
       "      <td>34</td>\n",
       "      <td>2003</td>\n",
       "      <td>20</td>\n",
       "      <td>14917</td>\n",
       "      <td>1975</td>\n",
       "      <td>「女兒妳堅強，我就放心」\\n「爸爸，你也要顧好自己的身體」\\n\\n擔心女兒化療吃不下\\n這幾...</td>\n",
       "      <td>NaN</td>\n",
       "      <td>NaN</td>\n",
       "      <td>1572572643000</td>\n",
       "    </tr>\n",
       "    <tr>\n",
       "      <th>1</th>\n",
       "      <td>2019/09/18 17:38:31</td>\n",
       "      <td>賴品妤</td>\n",
       "      <td>102499747817312</td>\n",
       "      <td>NaN</td>\n",
       "      <td>photo</td>\n",
       "      <td>27126</td>\n",
       "      <td>23611</td>\n",
       "      <td>46</td>\n",
       "      <td>1647</td>\n",
       "      <td>1766</td>\n",
       "      <td>5</td>\n",
       "      <td>51</td>\n",
       "      <td>1916</td>\n",
       "      <td>1444</td>\n",
       "      <td>很多人是從五年前的三一八運動才開始認識賴品妤，那天晚上我用雙手撐住立法院議場的大門，阻擋服貿...</td>\n",
       "      <td>NaN</td>\n",
       "      <td>NaN</td>\n",
       "      <td>1568799511000</td>\n",
       "    </tr>\n",
       "    <tr>\n",
       "      <th>2</th>\n",
       "      <td>2020/01/10 17:21:05</td>\n",
       "      <td>余天 Yu Tian</td>\n",
       "      <td>184889114896212</td>\n",
       "      <td>NaN</td>\n",
       "      <td>video</td>\n",
       "      <td>22177</td>\n",
       "      <td>21529</td>\n",
       "      <td>11</td>\n",
       "      <td>456</td>\n",
       "      <td>22</td>\n",
       "      <td>120</td>\n",
       "      <td>39</td>\n",
       "      <td>785</td>\n",
       "      <td>278</td>\n",
       "      <td>選前之夜彩蛋搶先曝光！\\n\\n余天給三重的一封信！\\n余苑綺：爸爸加油！我一定會好起來，謝謝...</td>\n",
       "      <td>余天給三重的一封信！</td>\n",
       "      <td>NaN</td>\n",
       "      <td>1578648065000</td>\n",
       "    </tr>\n",
       "    <tr>\n",
       "      <th>3</th>\n",
       "      <td>2020/01/07 22:41:02</td>\n",
       "      <td>羅致政粉絲團</td>\n",
       "      <td>182836328407031</td>\n",
       "      <td>NaN</td>\n",
       "      <td>video</td>\n",
       "      <td>17915</td>\n",
       "      <td>17353</td>\n",
       "      <td>16</td>\n",
       "      <td>347</td>\n",
       "      <td>122</td>\n",
       "      <td>10</td>\n",
       "      <td>67</td>\n",
       "      <td>1439</td>\n",
       "      <td>1034</td>\n",
       "      <td>鍾年晃是資深媒體人，也是我的苗栗同鄉。\\n他來幫我助選時，說了一段發人深省話，他說：民進黨每...</td>\n",
       "      <td>鍾年晃：下架吳斯懷還不夠，我們要下架國民黨！</td>\n",
       "      <td>NaN</td>\n",
       "      <td>1578408062000</td>\n",
       "    </tr>\n",
       "    <tr>\n",
       "      <th>4</th>\n",
       "      <td>2020/01/11 11:51:36</td>\n",
       "      <td>賴品妤</td>\n",
       "      <td>102499747817312</td>\n",
       "      <td>NaN</td>\n",
       "      <td>photo</td>\n",
       "      <td>19769</td>\n",
       "      <td>17059</td>\n",
       "      <td>13</td>\n",
       "      <td>1790</td>\n",
       "      <td>900</td>\n",
       "      <td>2</td>\n",
       "      <td>5</td>\n",
       "      <td>857</td>\n",
       "      <td>86</td>\n",
       "      <td>剛剛我已經把票投好囉😍\\n怎麼還有人沒出門勒😗</td>\n",
       "      <td>NaN</td>\n",
       "      <td>NaN</td>\n",
       "      <td>1578714696000</td>\n",
       "    </tr>\n",
       "  </tbody>\n",
       "</table>\n",
       "</div>"
      ],
      "text/plain": [
       "                  Date   Page_Name          Page_ID  Link   Type  \\\n",
       "0  2019/11/01 09:44:03  余天 Yu Tian  184889114896212   NaN  video   \n",
       "1  2019/09/18 17:38:31         賴品妤  102499747817312   NaN  photo   \n",
       "2  2020/01/10 17:21:05  余天 Yu Tian  184889114896212   NaN  video   \n",
       "3  2020/01/07 22:41:02      羅致政粉絲團  182836328407031   NaN  video   \n",
       "4  2020/01/11 11:51:36         賴品妤  102499747817312   NaN  photo   \n",
       "\n",
       "   All_Reaction_Count  LIKE_COUNT  WOW_COUNT  LOVE_COUNT  HAHA_COUNT  \\\n",
       "0              141559      131345         71        8086          34   \n",
       "1               27126       23611         46        1647        1766   \n",
       "2               22177       21529         11         456          22   \n",
       "3               17915       17353         16         347         122   \n",
       "4               19769       17059         13        1790         900   \n",
       "\n",
       "   SAD_COUNT  ANGRY_COUNT  Comment_Count  Share_Count  \\\n",
       "0       2003           20          14917         1975   \n",
       "1          5           51           1916         1444   \n",
       "2        120           39            785          278   \n",
       "3         10           67           1439         1034   \n",
       "4          2            5            857           86   \n",
       "\n",
       "                                             Message              Link_Title  \\\n",
       "0  「女兒妳堅強，我就放心」\\n「爸爸，你也要顧好自己的身體」\\n\\n擔心女兒化療吃不下\\n這幾...                     NaN   \n",
       "1  很多人是從五年前的三一八運動才開始認識賴品妤，那天晚上我用雙手撐住立法院議場的大門，阻擋服貿...                     NaN   \n",
       "2  選前之夜彩蛋搶先曝光！\\n\\n余天給三重的一封信！\\n余苑綺：爸爸加油！我一定會好起來，謝謝...              余天給三重的一封信！   \n",
       "3  鍾年晃是資深媒體人，也是我的苗栗同鄉。\\n他來幫我助選時，說了一段發人深省話，他說：民進黨每...  鍾年晃：下架吳斯懷還不夠，我們要下架國民黨！   \n",
       "4                            剛剛我已經把票投好囉😍\\n怎麼還有人沒出門勒😗                     NaN   \n",
       "\n",
       "  Link Description   created_time  \n",
       "0              NaN  1572572643000  \n",
       "1              NaN  1568799511000  \n",
       "2              NaN  1578648065000  \n",
       "3              NaN  1578408062000  \n",
       "4              NaN  1578714696000  "
      ]
     },
     "execution_count": 23,
     "metadata": {},
     "output_type": "execute_result"
    }
   ],
   "source": [
    "df['Date']\n",
    "df['Date'].str.split(\"/\") #str= words string\n",
    "df.head()"
   ]
  },
  {
   "cell_type": "code",
   "execution_count": 26,
   "metadata": {},
   "outputs": [
    {
     "data": {
      "text/html": [
       "<div>\n",
       "<style scoped>\n",
       "    .dataframe tbody tr th:only-of-type {\n",
       "        vertical-align: middle;\n",
       "    }\n",
       "\n",
       "    .dataframe tbody tr th {\n",
       "        vertical-align: top;\n",
       "    }\n",
       "\n",
       "    .dataframe thead th {\n",
       "        text-align: right;\n",
       "    }\n",
       "</style>\n",
       "<table border=\"1\" class=\"dataframe\">\n",
       "  <thead>\n",
       "    <tr style=\"text-align: right;\">\n",
       "      <th></th>\n",
       "      <th>Date</th>\n",
       "      <th>Page_Name</th>\n",
       "      <th>Page_ID</th>\n",
       "      <th>Link</th>\n",
       "      <th>Type</th>\n",
       "      <th>All_Reaction_Count</th>\n",
       "      <th>LIKE_COUNT</th>\n",
       "      <th>WOW_COUNT</th>\n",
       "      <th>LOVE_COUNT</th>\n",
       "      <th>HAHA_COUNT</th>\n",
       "      <th>SAD_COUNT</th>\n",
       "      <th>ANGRY_COUNT</th>\n",
       "      <th>Comment_Count</th>\n",
       "      <th>Share_Count</th>\n",
       "      <th>Message</th>\n",
       "      <th>Link_Title</th>\n",
       "      <th>Link Description</th>\n",
       "      <th>created_time</th>\n",
       "      <th>Year</th>\n",
       "    </tr>\n",
       "  </thead>\n",
       "  <tbody>\n",
       "    <tr>\n",
       "      <th>0</th>\n",
       "      <td>2019/11/01 09:44:03</td>\n",
       "      <td>余天 Yu Tian</td>\n",
       "      <td>184889114896212</td>\n",
       "      <td>NaN</td>\n",
       "      <td>video</td>\n",
       "      <td>141559</td>\n",
       "      <td>131345</td>\n",
       "      <td>71</td>\n",
       "      <td>8086</td>\n",
       "      <td>34</td>\n",
       "      <td>2003</td>\n",
       "      <td>20</td>\n",
       "      <td>14917</td>\n",
       "      <td>1975</td>\n",
       "      <td>「女兒妳堅強，我就放心」\\n「爸爸，你也要顧好自己的身體」\\n\\n擔心女兒化療吃不下\\n這幾...</td>\n",
       "      <td>NaN</td>\n",
       "      <td>NaN</td>\n",
       "      <td>1572572643000</td>\n",
       "      <td>2019</td>\n",
       "    </tr>\n",
       "    <tr>\n",
       "      <th>1</th>\n",
       "      <td>2019/09/18 17:38:31</td>\n",
       "      <td>賴品妤</td>\n",
       "      <td>102499747817312</td>\n",
       "      <td>NaN</td>\n",
       "      <td>photo</td>\n",
       "      <td>27126</td>\n",
       "      <td>23611</td>\n",
       "      <td>46</td>\n",
       "      <td>1647</td>\n",
       "      <td>1766</td>\n",
       "      <td>5</td>\n",
       "      <td>51</td>\n",
       "      <td>1916</td>\n",
       "      <td>1444</td>\n",
       "      <td>很多人是從五年前的三一八運動才開始認識賴品妤，那天晚上我用雙手撐住立法院議場的大門，阻擋服貿...</td>\n",
       "      <td>NaN</td>\n",
       "      <td>NaN</td>\n",
       "      <td>1568799511000</td>\n",
       "      <td>2019</td>\n",
       "    </tr>\n",
       "    <tr>\n",
       "      <th>2</th>\n",
       "      <td>2020/01/10 17:21:05</td>\n",
       "      <td>余天 Yu Tian</td>\n",
       "      <td>184889114896212</td>\n",
       "      <td>NaN</td>\n",
       "      <td>video</td>\n",
       "      <td>22177</td>\n",
       "      <td>21529</td>\n",
       "      <td>11</td>\n",
       "      <td>456</td>\n",
       "      <td>22</td>\n",
       "      <td>120</td>\n",
       "      <td>39</td>\n",
       "      <td>785</td>\n",
       "      <td>278</td>\n",
       "      <td>選前之夜彩蛋搶先曝光！\\n\\n余天給三重的一封信！\\n余苑綺：爸爸加油！我一定會好起來，謝謝...</td>\n",
       "      <td>余天給三重的一封信！</td>\n",
       "      <td>NaN</td>\n",
       "      <td>1578648065000</td>\n",
       "      <td>2020</td>\n",
       "    </tr>\n",
       "    <tr>\n",
       "      <th>3</th>\n",
       "      <td>2020/01/07 22:41:02</td>\n",
       "      <td>羅致政粉絲團</td>\n",
       "      <td>182836328407031</td>\n",
       "      <td>NaN</td>\n",
       "      <td>video</td>\n",
       "      <td>17915</td>\n",
       "      <td>17353</td>\n",
       "      <td>16</td>\n",
       "      <td>347</td>\n",
       "      <td>122</td>\n",
       "      <td>10</td>\n",
       "      <td>67</td>\n",
       "      <td>1439</td>\n",
       "      <td>1034</td>\n",
       "      <td>鍾年晃是資深媒體人，也是我的苗栗同鄉。\\n他來幫我助選時，說了一段發人深省話，他說：民進黨每...</td>\n",
       "      <td>鍾年晃：下架吳斯懷還不夠，我們要下架國民黨！</td>\n",
       "      <td>NaN</td>\n",
       "      <td>1578408062000</td>\n",
       "      <td>2020</td>\n",
       "    </tr>\n",
       "    <tr>\n",
       "      <th>4</th>\n",
       "      <td>2020/01/11 11:51:36</td>\n",
       "      <td>賴品妤</td>\n",
       "      <td>102499747817312</td>\n",
       "      <td>NaN</td>\n",
       "      <td>photo</td>\n",
       "      <td>19769</td>\n",
       "      <td>17059</td>\n",
       "      <td>13</td>\n",
       "      <td>1790</td>\n",
       "      <td>900</td>\n",
       "      <td>2</td>\n",
       "      <td>5</td>\n",
       "      <td>857</td>\n",
       "      <td>86</td>\n",
       "      <td>剛剛我已經把票投好囉😍\\n怎麼還有人沒出門勒😗</td>\n",
       "      <td>NaN</td>\n",
       "      <td>NaN</td>\n",
       "      <td>1578714696000</td>\n",
       "      <td>2020</td>\n",
       "    </tr>\n",
       "  </tbody>\n",
       "</table>\n",
       "</div>"
      ],
      "text/plain": [
       "                  Date   Page_Name          Page_ID  Link   Type  \\\n",
       "0  2019/11/01 09:44:03  余天 Yu Tian  184889114896212   NaN  video   \n",
       "1  2019/09/18 17:38:31         賴品妤  102499747817312   NaN  photo   \n",
       "2  2020/01/10 17:21:05  余天 Yu Tian  184889114896212   NaN  video   \n",
       "3  2020/01/07 22:41:02      羅致政粉絲團  182836328407031   NaN  video   \n",
       "4  2020/01/11 11:51:36         賴品妤  102499747817312   NaN  photo   \n",
       "\n",
       "   All_Reaction_Count  LIKE_COUNT  WOW_COUNT  LOVE_COUNT  HAHA_COUNT  \\\n",
       "0              141559      131345         71        8086          34   \n",
       "1               27126       23611         46        1647        1766   \n",
       "2               22177       21529         11         456          22   \n",
       "3               17915       17353         16         347         122   \n",
       "4               19769       17059         13        1790         900   \n",
       "\n",
       "   SAD_COUNT  ANGRY_COUNT  Comment_Count  Share_Count  \\\n",
       "0       2003           20          14917         1975   \n",
       "1          5           51           1916         1444   \n",
       "2        120           39            785          278   \n",
       "3         10           67           1439         1034   \n",
       "4          2            5            857           86   \n",
       "\n",
       "                                             Message              Link_Title  \\\n",
       "0  「女兒妳堅強，我就放心」\\n「爸爸，你也要顧好自己的身體」\\n\\n擔心女兒化療吃不下\\n這幾...                     NaN   \n",
       "1  很多人是從五年前的三一八運動才開始認識賴品妤，那天晚上我用雙手撐住立法院議場的大門，阻擋服貿...                     NaN   \n",
       "2  選前之夜彩蛋搶先曝光！\\n\\n余天給三重的一封信！\\n余苑綺：爸爸加油！我一定會好起來，謝謝...              余天給三重的一封信！   \n",
       "3  鍾年晃是資深媒體人，也是我的苗栗同鄉。\\n他來幫我助選時，說了一段發人深省話，他說：民進黨每...  鍾年晃：下架吳斯懷還不夠，我們要下架國民黨！   \n",
       "4                            剛剛我已經把票投好囉😍\\n怎麼還有人沒出門勒😗                     NaN   \n",
       "\n",
       "  Link Description   created_time  Year  \n",
       "0              NaN  1572572643000  2019  \n",
       "1              NaN  1568799511000  2019  \n",
       "2              NaN  1578648065000  2020  \n",
       "3              NaN  1578408062000  2020  \n",
       "4              NaN  1578714696000  2020  "
      ]
     },
     "execution_count": 26,
     "metadata": {},
     "output_type": "execute_result"
    }
   ],
   "source": [
    "df['Year'] = df['Date'].apply(lambda x : x.split(\"/\")[0]) #0 is the first valus after spliting\n",
    "df.head()"
   ]
  },
  {
   "cell_type": "code",
   "execution_count": 5,
   "metadata": {},
   "outputs": [
    {
     "name": "stdout",
     "output_type": "stream",
     "text": [
      "14917\n",
      "0    「女兒妳堅強，我就放心」\\n「爸爸，你也要顧好自己的身體」\\n\\n擔心女兒化療吃不下\\n這幾...\n",
      "Name: Message, dtype: object\n"
     ]
    }
   ],
   "source": [
    "import pandas as pd\n",
    "df = pd.read_csv(\"10802_2020 NewTaipeiCity Legislators candidates.csv\")\n",
    "print(max(df.Comment_Count)) \n",
    "print(df[(df['Comment_Count'] == max(df.Comment_Count) )]['Message'])  \n",
    "#message= show selected content of comment"
   ]
  },
  {
   "cell_type": "code",
   "execution_count": 50,
   "metadata": {},
   "outputs": [
    {
     "name": "stdout",
     "output_type": "stream",
     "text": [
      "141559\n",
      "0    「女兒妳堅強，我就放心」\\n「爸爸，你也要顧好自己的身體」\\n\\n擔心女兒化療吃不下\\n這幾...\n",
      "Name: Message, dtype: object\n"
     ]
    }
   ],
   "source": [
    "df = pd.read_csv(\"10802_2020 NewTaipeiCity Legislators candidates.csv\")\n",
    "print(max(df.All_Reaction_Count)) \n",
    "print(df[(df['All_Reaction_Count'] == max(df.All_Reaction_Count) )]['Message'])"
   ]
  },
  {
   "cell_type": "markdown",
   "metadata": {},
   "source": [
    "## Extract post like over 500 to bar chart"
   ]
  },
  {
   "cell_type": "code",
   "execution_count": 6,
   "metadata": {},
   "outputs": [],
   "source": [
    "import pandas as pd\n",
    "import matplotlib.pyplot as plt\n",
    "import seaborn as sns\n",
    "import numpy as np\n",
    "\n",
    "# define how to load mandarin characters\n",
    "plt.rcParams['font.sans-serif'] = ['SimHei'] \n",
    "plt.rcParams['axes.unicode_minus'] = False\n",
    "sns.set(font=['sans-serif'])\n",
    "sns.set_style(\"whitegrid\",{\"font.sans-serif\":['SimHei']})"
   ]
  },
  {
   "cell_type": "code",
   "execution_count": 8,
   "metadata": {},
   "outputs": [],
   "source": [
    "df = pd.read_csv(\"10802_2020 NewTaipeiCity Legislators candidates.csv\")\n",
    "likedf = df[(df['Comment_Count'] > 500)].groupby(by ='Page_Name').count().reset_index().sort_values('All_Reaction_Count')"
   ]
  },
  {
   "cell_type": "code",
   "execution_count": 9,
   "metadata": {},
   "outputs": [
    {
     "name": "stdout",
     "output_type": "stream",
     "text": [
      "        Page_Name  Date  Page_ID  Link  Type  Post_count  LIKE_COUNT  \\\n",
      "9         林國春的大小事     1        1     0     1           1           1   \n",
      "2             吳琪銘     1        1     0     1           1           1   \n",
      "3             吳秉叡     1        1     0     1           1           1   \n",
      "10            林德福     1        1     0     1           1           1   \n",
      "18    賴嘉倫-嘉恁作伙向前行     1        1     0     1           1           1   \n",
      "15            蔡沐霖     2        2     0     2           2           2   \n",
      "7        張銘祐.銘記在新     2        2     0     2           2           2   \n",
      "0     三重埔ㄟ女兒  李旻蔚     2        2     0     2           2           2   \n",
      "4   吳達偉Z9 板橋立委候選人     2        2     0     2           2           2   \n",
      "6             張宏陸     2        2     0     2           2           2   \n",
      "19            陳明義     3        3     0     3           3           3   \n",
      "8             李永萍     5        5     0     5           5           5   \n",
      "11            林淑芬     5        5     0     5           5           5   \n",
      "14         羅致政粉絲團     7        7     0     7           7           7   \n",
      "5             呂孫綾     9        9     0     9           9           9   \n",
      "17            賴品妤    11       11     0    11          11          11   \n",
      "16            蘇巧慧    15       15     0    15          15          15   \n",
      "13            洪孟楷    27       27     0    27          27          27   \n",
      "12            柯志恩    38       38     0    38          38          38   \n",
      "1      余天 Yu Tian    60       60     0    60          60          60   \n",
      "\n",
      "    WOW_COUNT  LOVE_COUNT  HAHA_COUNT  SAD_COUNT  ANGRY_COUNT  Comment_Count  \\\n",
      "9           1           1           1          1            1              1   \n",
      "2           1           1           1          1            1              1   \n",
      "3           1           1           1          1            1              1   \n",
      "10          1           1           1          1            1              1   \n",
      "18          1           1           1          1            1              1   \n",
      "15          2           2           2          2            2              2   \n",
      "7           2           2           2          2            2              2   \n",
      "0           2           2           2          2            2              2   \n",
      "4           2           2           2          2            2              2   \n",
      "6           2           2           2          2            2              2   \n",
      "19          3           3           3          3            3              3   \n",
      "8           5           5           5          5            5              5   \n",
      "11          5           5           5          5            5              5   \n",
      "14          7           7           7          7            7              7   \n",
      "5           9           9           9          9            9              9   \n",
      "17         11          11          11         11           11             11   \n",
      "16         15          15          15         15           15             15   \n",
      "13         27          27          27         27           27             27   \n",
      "12         38          38          38         38           38             38   \n",
      "1          60          60          60         60           60             60   \n",
      "\n",
      "    Share_Count  Message  Link_Title  Link Description  created_time  \n",
      "9             1        1           1                 0             1  \n",
      "2             1        1           0                 0             1  \n",
      "3             1        1           0                 0             1  \n",
      "10            1        1           1                 0             1  \n",
      "18            1        1           0                 0             1  \n",
      "15            2        2           2                 0             2  \n",
      "7             2        2           0                 0             2  \n",
      "0             2        2           1                 0             2  \n",
      "4             2        2           1                 0             2  \n",
      "6             2        2           1                 1             2  \n",
      "19            3        3           0                 0             3  \n",
      "8             5        5           3                 0             5  \n",
      "11            5        5           2                 0             5  \n",
      "14            7        7           2                 0             7  \n",
      "5             9        9           1                 0             9  \n",
      "17           11        9           1                 0            11  \n",
      "16           15       15           4                 1            15  \n",
      "13           27       27           6                 0            27  \n",
      "12           38       37           5                 0            38  \n",
      "1            60       57          22                 0            60  \n"
     ]
    }
   ],
   "source": [
    "likedf = likedf.rename(columns={'All_Reaction_Count': 'Post_count'})\n",
    "likedf.head()\n",
    "print(likedf)"
   ]
  },
  {
   "cell_type": "markdown",
   "metadata": {},
   "source": [
    "to bar chart"
   ]
  },
  {
   "cell_type": "code",
   "execution_count": 10,
   "metadata": {},
   "outputs": [
    {
     "data": {
      "text/plain": [
       "<matplotlib.axes._subplots.AxesSubplot at 0x212d5228c48>"
      ]
     },
     "execution_count": 10,
     "metadata": {},
     "output_type": "execute_result"
    },
    {
     "data": {
      "image/png": "[encoded data removed]",
      "text/plain": [
       "<Figure size 432x288 with 1 Axes>"
      ]
     },
     "metadata": {},
     "output_type": "display_data"
    }
   ],
   "source": [
    "import matplotlib.pyplot as plt\n",
    "plt.rcParams['font.sans-serif']=['SimHei']\n",
    "likedf.plot.bar(x='Page_Name', y='Post_count')"
   ]
  },
  {
   "cell_type": "markdown",
   "metadata": {},
   "source": [
    "## Extract total post number to pie chart"
   ]
  },
  {
   "cell_type": "code",
   "execution_count": 13,
   "metadata": {},
   "outputs": [
    {
     "name": "stdout",
     "output_type": "stream",
     "text": [
      "4    0.011628\n",
      "5    0.597674\n",
      "6    0.011628\n",
      "7    0.379070\n",
      "Name: Page_ID, dtype: float64\n"
     ]
    }
   ],
   "source": [
    "import pandas as pd\n",
    "df = pd.read_csv(\"10802_2020 NewTaipeiCity Legislators candidates.csv\")\n",
    "df.head()\n",
    "likedf =  df.groupby(['Page_Name','Type']).count().reset_index()\n",
    "likedf =  likedf[likedf['Page_Name'] == '余天 Yu Tian']\n",
    "likedf['Page_ID'] = likedf['Page_ID'].apply(lambda x :x/likedf['Page_ID'].sum())\n",
    "print(likedf['Page_ID'])"
   ]
  },
  {
   "cell_type": "markdown",
   "metadata": {},
   "source": [
    "to pie chart"
   ]
  },
  {
   "cell_type": "code",
   "execution_count": 12,
   "metadata": {},
   "outputs": [
    {
     "data": {
      "text/plain": [
       "([<matplotlib.patches.Wedge at 0x212d6b97dc8>,\n",
       "  <matplotlib.patches.Wedge at 0x212d6ba2648>,\n",
       "  <matplotlib.patches.Wedge at 0x212d6ba2f48>,\n",
       "  <matplotlib.patches.Wedge at 0x212d6bab8c8>],\n",
       " [Text(1.0992661332127305, 0.04017422521383064, 'link'),\n",
       "  Text(-0.4079242176622039, 1.0215663623302595, 'photo'),\n",
       "  Text(-0.8245904352276304, -0.7280457500261279, 'status'),\n",
       "  Text(0.4079242774409191, -1.0215663384598692, 'video')],\n",
       " [Text(0.5995997090251257, 0.02191321375299853, '1.2%'),\n",
       "  Text(-0.22250411872483847, 0.5572180158165051, '59.8%'),\n",
       "  Text(-0.4497766010332529, -0.3971158636506152, '1.2%'),\n",
       "  Text(0.2225041513314104, -0.5572180027962923, '37.9%')])"
      ]
     },
     "execution_count": 12,
     "metadata": {},
     "output_type": "execute_result"
    },
    {
     "data": {
      "image/png": "[encoded data removed]",
      "text/plain": [
       "<Figure size 432x288 with 1 Axes>"
      ]
     },
     "metadata": {},
     "output_type": "display_data"
    }
   ],
   "source": [
    "plt.pie(likedf['Page_ID'] , labels = likedf['Type'],autopct='%1.1f%%')"
   ]
  },
  {
   "cell_type": "markdown",
   "metadata": {},
   "source": [
    "Ko chi an"
   ]
  },
  {
   "cell_type": "code",
   "execution_count": 16,
   "metadata": {},
   "outputs": [
    {
     "data": {
      "text/plain": [
       "([<matplotlib.patches.Wedge at 0x212d6b79a48>,\n",
       "  <matplotlib.patches.Wedge at 0x212d6b6f248>,\n",
       "  <matplotlib.patches.Wedge at 0x212d6b6fb48>,\n",
       "  <matplotlib.patches.Wedge at 0x212d6b5d508>],\n",
       " [Text(1.0990940152976585, 0.044635698010341354, 'link'),\n",
       "  Text(-0.9997504003296421, 0.458801849430362, 'photo'),\n",
       "  Text(0.6687515862189722, -0.8733678010607036, 'status'),\n",
       "  Text(0.992169995725624, -0.4749723145424533, 'video')],\n",
       " [Text(0.5995058265259955, 0.0243467443692771, '1.3%'),\n",
       "  Text(-0.5453184001798047, 0.2502555542347429, '83.7%'),\n",
       "  Text(0.3647735924830757, -0.4763824369422019, '0.8%'),\n",
       "  Text(0.5411836340321585, -0.2590758079322472, '14.2%')])"
      ]
     },
     "execution_count": 16,
     "metadata": {},
     "output_type": "execute_result"
    },
    {
     "data": {
      "image/png": "[encoded data removed]",
      "text/plain": [
       "<Figure size 432x288 with 1 Axes>"
      ]
     },
     "metadata": {},
     "output_type": "display_data"
    }
   ],
   "source": [
    "likedfko =  df.groupby(['Page_Name','Type']).count().reset_index()\n",
    "likedfko =  likedfko[likedfko['Page_Name'] == '柯志恩']\n",
    "likedfko['Page_ID'] = likedfko['Page_ID'].apply(lambda x :x/likedf['Page_ID'].sum())\n",
    "plt.pie(likedfko['Page_ID'] , labels = likedfko['Type'],autopct='%1.1f%%')"
   ]
  },
  {
   "cell_type": "markdown",
   "metadata": {},
   "source": [
    "Hong mon kai"
   ]
  },
  {
   "cell_type": "code",
   "execution_count": 18,
   "metadata": {},
   "outputs": [
    {
     "data": {
      "text/plain": [
       "([<matplotlib.patches.Wedge at 0x212d5125408>,\n",
       "  <matplotlib.patches.Wedge at 0x212d5125bc8>,\n",
       "  <matplotlib.patches.Wedge at 0x212d512d488>,\n",
       "  <matplotlib.patches.Wedge at 0x212d512de08>],\n",
       " [Text(0.9805189895379794, 0.4985804961642803, 'link'),\n",
       "  Text(-0.9280465994144947, 0.5905332414988953, 'photo'),\n",
       "  Text(-0.4931782479210398, -0.9832472810933848, 'status'),\n",
       "  Text(0.5956303355239754, -0.924783490014607, 'video')],\n",
       " [Text(0.5348285397479887, 0.2719529979077892, '15.0%'),\n",
       "  Text(-0.5062072360442699, 0.3221090408175792, '52.0%'),\n",
       "  Text(-0.26900631704783984, -0.5363166987782098, '1.2%'),\n",
       "  Text(0.3248892739221683, -0.5044273581897856, '31.8%')])"
      ]
     },
     "execution_count": 18,
     "metadata": {},
     "output_type": "execute_result"
    },
    {
     "data": {
      "image/png": "[encoded data removed]",
      "text/plain": [
       "<Figure size 432x288 with 1 Axes>"
      ]
     },
     "metadata": {},
     "output_type": "display_data"
    }
   ],
   "source": [
    "likedfho =  df.groupby(['Page_Name','Type']).count().reset_index()\n",
    "likedfho =  likedfho[likedfho['Page_Name'] == '洪孟楷']\n",
    "likedfho['Page_ID'] = likedfho['Page_ID'].apply(lambda x :x/likedf['Page_ID'].sum())\n",
    "plt.pie(likedfho['Page_ID'] , labels = likedfho['Type'],autopct='%1.1f%%')"
   ]
  },
  {
   "cell_type": "markdown",
   "metadata": {},
   "source": [
    "## Monthly post trend"
   ]
  },
  {
   "cell_type": "code",
   "execution_count": 23,
   "metadata": {},
   "outputs": [
    {
     "data": {
      "text/html": [
       "<div>\n",
       "<style scoped>\n",
       "    .dataframe tbody tr th:only-of-type {\n",
       "        vertical-align: middle;\n",
       "    }\n",
       "\n",
       "    .dataframe tbody tr th {\n",
       "        vertical-align: top;\n",
       "    }\n",
       "\n",
       "    .dataframe thead th {\n",
       "        text-align: right;\n",
       "    }\n",
       "</style>\n",
       "<table border=\"1\" class=\"dataframe\">\n",
       "  <thead>\n",
       "    <tr style=\"text-align: right;\">\n",
       "      <th></th>\n",
       "      <th>Date</th>\n",
       "      <th>Page_Name</th>\n",
       "      <th>Page_ID</th>\n",
       "      <th>Link</th>\n",
       "      <th>Type</th>\n",
       "      <th>All_Reaction_Count</th>\n",
       "      <th>LIKE_COUNT</th>\n",
       "      <th>WOW_COUNT</th>\n",
       "      <th>LOVE_COUNT</th>\n",
       "      <th>HAHA_COUNT</th>\n",
       "      <th>SAD_COUNT</th>\n",
       "      <th>ANGRY_COUNT</th>\n",
       "      <th>Comment_Count</th>\n",
       "      <th>Share_Count</th>\n",
       "      <th>Message</th>\n",
       "      <th>Link_Title</th>\n",
       "      <th>Link Description</th>\n",
       "      <th>created_time</th>\n",
       "    </tr>\n",
       "  </thead>\n",
       "  <tbody>\n",
       "    <tr>\n",
       "      <th>0</th>\n",
       "      <td>2019/11/01 09:44:03</td>\n",
       "      <td>余天 Yu Tian</td>\n",
       "      <td>184889114896212</td>\n",
       "      <td>NaN</td>\n",
       "      <td>video</td>\n",
       "      <td>141559</td>\n",
       "      <td>131345</td>\n",
       "      <td>71</td>\n",
       "      <td>8086</td>\n",
       "      <td>34</td>\n",
       "      <td>2003</td>\n",
       "      <td>20</td>\n",
       "      <td>14917</td>\n",
       "      <td>1975</td>\n",
       "      <td>「女兒妳堅強，我就放心」\\n「爸爸，你也要顧好自己的身體」\\n\\n擔心女兒化療吃不下\\n這幾...</td>\n",
       "      <td>NaN</td>\n",
       "      <td>NaN</td>\n",
       "      <td>1572572643000</td>\n",
       "    </tr>\n",
       "  </tbody>\n",
       "</table>\n",
       "</div>"
      ],
      "text/plain": [
       "                  Date   Page_Name          Page_ID  Link   Type  \\\n",
       "0  2019/11/01 09:44:03  余天 Yu Tian  184889114896212   NaN  video   \n",
       "\n",
       "   All_Reaction_Count  LIKE_COUNT  WOW_COUNT  LOVE_COUNT  HAHA_COUNT  \\\n",
       "0              141559      131345         71        8086          34   \n",
       "\n",
       "   SAD_COUNT  ANGRY_COUNT  Comment_Count  Share_Count  \\\n",
       "0       2003           20          14917         1975   \n",
       "\n",
       "                                             Message Link_Title  \\\n",
       "0  「女兒妳堅強，我就放心」\\n「爸爸，你也要顧好自己的身體」\\n\\n擔心女兒化療吃不下\\n這幾...        NaN   \n",
       "\n",
       "  Link Description   created_time  \n",
       "0              NaN  1572572643000  "
      ]
     },
     "execution_count": 23,
     "metadata": {},
     "output_type": "execute_result"
    }
   ],
   "source": [
    "import pandas as pd\n",
    "df = pd.read_csv(\"10802_2020 NewTaipeiCity Legislators candidates.csv\")\n",
    "\n",
    "df.head(1)"
   ]
  },
  {
   "cell_type": "code",
   "execution_count": 24,
   "metadata": {},
   "outputs": [
    {
     "data": {
      "text/html": [
       "<div>\n",
       "<style scoped>\n",
       "    .dataframe tbody tr th:only-of-type {\n",
       "        vertical-align: middle;\n",
       "    }\n",
       "\n",
       "    .dataframe tbody tr th {\n",
       "        vertical-align: top;\n",
       "    }\n",
       "\n",
       "    .dataframe thead th {\n",
       "        text-align: right;\n",
       "    }\n",
       "</style>\n",
       "<table border=\"1\" class=\"dataframe\">\n",
       "  <thead>\n",
       "    <tr style=\"text-align: right;\">\n",
       "      <th></th>\n",
       "      <th>Date</th>\n",
       "      <th>Page_Name</th>\n",
       "      <th>Page_ID</th>\n",
       "      <th>Link</th>\n",
       "      <th>Type</th>\n",
       "      <th>All_Reaction_Count</th>\n",
       "      <th>LIKE_COUNT</th>\n",
       "      <th>WOW_COUNT</th>\n",
       "      <th>LOVE_COUNT</th>\n",
       "      <th>HAHA_COUNT</th>\n",
       "      <th>SAD_COUNT</th>\n",
       "      <th>ANGRY_COUNT</th>\n",
       "      <th>Comment_Count</th>\n",
       "      <th>Share_Count</th>\n",
       "      <th>Message</th>\n",
       "      <th>Link_Title</th>\n",
       "      <th>Link Description</th>\n",
       "      <th>created_time</th>\n",
       "      <th>Post_Date</th>\n",
       "    </tr>\n",
       "  </thead>\n",
       "  <tbody>\n",
       "    <tr>\n",
       "      <th>0</th>\n",
       "      <td>2019/11/01 09:44:03</td>\n",
       "      <td>余天 Yu Tian</td>\n",
       "      <td>184889114896212</td>\n",
       "      <td>NaN</td>\n",
       "      <td>video</td>\n",
       "      <td>141559</td>\n",
       "      <td>131345</td>\n",
       "      <td>71</td>\n",
       "      <td>8086</td>\n",
       "      <td>34</td>\n",
       "      <td>2003</td>\n",
       "      <td>20</td>\n",
       "      <td>14917</td>\n",
       "      <td>1975</td>\n",
       "      <td>「女兒妳堅強，我就放心」\\n「爸爸，你也要顧好自己的身體」\\n\\n擔心女兒化療吃不下\\n這幾...</td>\n",
       "      <td>NaN</td>\n",
       "      <td>NaN</td>\n",
       "      <td>1572572643000</td>\n",
       "      <td>2019/11/01</td>\n",
       "    </tr>\n",
       "  </tbody>\n",
       "</table>\n",
       "</div>"
      ],
      "text/plain": [
       "                  Date   Page_Name          Page_ID  Link   Type  \\\n",
       "0  2019/11/01 09:44:03  余天 Yu Tian  184889114896212   NaN  video   \n",
       "\n",
       "   All_Reaction_Count  LIKE_COUNT  WOW_COUNT  LOVE_COUNT  HAHA_COUNT  \\\n",
       "0              141559      131345         71        8086          34   \n",
       "\n",
       "   SAD_COUNT  ANGRY_COUNT  Comment_Count  Share_Count  \\\n",
       "0       2003           20          14917         1975   \n",
       "\n",
       "                                             Message Link_Title  \\\n",
       "0  「女兒妳堅強，我就放心」\\n「爸爸，你也要顧好自己的身體」\\n\\n擔心女兒化療吃不下\\n這幾...        NaN   \n",
       "\n",
       "  Link Description   created_time   Post_Date  \n",
       "0              NaN  1572572643000  2019/11/01  "
      ]
     },
     "execution_count": 24,
     "metadata": {},
     "output_type": "execute_result"
    }
   ],
   "source": [
    "df[\"Post_Date\"] = df[\"Date\"].str.split(\" \").str.get(0).str.title() \n",
    "df.head(1)\n"
   ]
  },
  {
   "cell_type": "code",
   "execution_count": 25,
   "metadata": {},
   "outputs": [
    {
     "data": {
      "text/html": [
       "<div>\n",
       "<style scoped>\n",
       "    .dataframe tbody tr th:only-of-type {\n",
       "        vertical-align: middle;\n",
       "    }\n",
       "\n",
       "    .dataframe tbody tr th {\n",
       "        vertical-align: top;\n",
       "    }\n",
       "\n",
       "    .dataframe thead th {\n",
       "        text-align: right;\n",
       "    }\n",
       "</style>\n",
       "<table border=\"1\" class=\"dataframe\">\n",
       "  <thead>\n",
       "    <tr style=\"text-align: right;\">\n",
       "      <th></th>\n",
       "      <th>Date</th>\n",
       "      <th>Page_Name</th>\n",
       "      <th>Page_ID</th>\n",
       "      <th>Link</th>\n",
       "      <th>Type</th>\n",
       "      <th>All_Reaction_Count</th>\n",
       "      <th>LIKE_COUNT</th>\n",
       "      <th>WOW_COUNT</th>\n",
       "      <th>LOVE_COUNT</th>\n",
       "      <th>HAHA_COUNT</th>\n",
       "      <th>SAD_COUNT</th>\n",
       "      <th>ANGRY_COUNT</th>\n",
       "      <th>Comment_Count</th>\n",
       "      <th>Share_Count</th>\n",
       "      <th>Message</th>\n",
       "      <th>Link_Title</th>\n",
       "      <th>Link Description</th>\n",
       "      <th>created_time</th>\n",
       "      <th>Post_Date</th>\n",
       "      <th>Hour</th>\n",
       "    </tr>\n",
       "  </thead>\n",
       "  <tbody>\n",
       "    <tr>\n",
       "      <th>0</th>\n",
       "      <td>2019/11/01 09:44:03</td>\n",
       "      <td>余天 Yu Tian</td>\n",
       "      <td>184889114896212</td>\n",
       "      <td>NaN</td>\n",
       "      <td>video</td>\n",
       "      <td>141559</td>\n",
       "      <td>131345</td>\n",
       "      <td>71</td>\n",
       "      <td>8086</td>\n",
       "      <td>34</td>\n",
       "      <td>2003</td>\n",
       "      <td>20</td>\n",
       "      <td>14917</td>\n",
       "      <td>1975</td>\n",
       "      <td>「女兒妳堅強，我就放心」\\n「爸爸，你也要顧好自己的身體」\\n\\n擔心女兒化療吃不下\\n這幾...</td>\n",
       "      <td>NaN</td>\n",
       "      <td>NaN</td>\n",
       "      <td>1572572643000</td>\n",
       "      <td>2019/11/01</td>\n",
       "      <td>09</td>\n",
       "    </tr>\n",
       "  </tbody>\n",
       "</table>\n",
       "</div>"
      ],
      "text/plain": [
       "                  Date   Page_Name          Page_ID  Link   Type  \\\n",
       "0  2019/11/01 09:44:03  余天 Yu Tian  184889114896212   NaN  video   \n",
       "\n",
       "   All_Reaction_Count  LIKE_COUNT  WOW_COUNT  LOVE_COUNT  HAHA_COUNT  \\\n",
       "0              141559      131345         71        8086          34   \n",
       "\n",
       "   SAD_COUNT  ANGRY_COUNT  Comment_Count  Share_Count  \\\n",
       "0       2003           20          14917         1975   \n",
       "\n",
       "                                             Message Link_Title  \\\n",
       "0  「女兒妳堅強，我就放心」\\n「爸爸，你也要顧好自己的身體」\\n\\n擔心女兒化療吃不下\\n這幾...        NaN   \n",
       "\n",
       "  Link Description   created_time   Post_Date Hour  \n",
       "0              NaN  1572572643000  2019/11/01   09  "
      ]
     },
     "execution_count": 25,
     "metadata": {},
     "output_type": "execute_result"
    }
   ],
   "source": [
    "#split by hour\n",
    "\n",
    "df[\"Hour\"] = df[\"Date\"].str.split(\" \").str.get(1).str.title().str.split(\":\").str.get(0)\n",
    "df.head(1)"
   ]
  },
  {
   "cell_type": "code",
   "execution_count": 26,
   "metadata": {},
   "outputs": [],
   "source": [
    "#format time\n",
    "\n",
    "df['Date'] = pd.to_datetime(df['Date'])"
   ]
  },
  {
   "cell_type": "code",
   "execution_count": 27,
   "metadata": {},
   "outputs": [
    {
     "data": {
      "text/html": [
       "<div>\n",
       "<style scoped>\n",
       "    .dataframe tbody tr th:only-of-type {\n",
       "        vertical-align: middle;\n",
       "    }\n",
       "\n",
       "    .dataframe tbody tr th {\n",
       "        vertical-align: top;\n",
       "    }\n",
       "\n",
       "    .dataframe thead th {\n",
       "        text-align: right;\n",
       "    }\n",
       "</style>\n",
       "<table border=\"1\" class=\"dataframe\">\n",
       "  <thead>\n",
       "    <tr style=\"text-align: right;\">\n",
       "      <th></th>\n",
       "      <th>Date</th>\n",
       "      <th>Page_Name</th>\n",
       "      <th>Page_ID</th>\n",
       "      <th>Link</th>\n",
       "      <th>Type</th>\n",
       "      <th>All_Reaction_Count</th>\n",
       "      <th>LIKE_COUNT</th>\n",
       "      <th>WOW_COUNT</th>\n",
       "      <th>LOVE_COUNT</th>\n",
       "      <th>HAHA_COUNT</th>\n",
       "      <th>...</th>\n",
       "      <th>ANGRY_COUNT</th>\n",
       "      <th>Comment_Count</th>\n",
       "      <th>Share_Count</th>\n",
       "      <th>Message</th>\n",
       "      <th>Link_Title</th>\n",
       "      <th>Link Description</th>\n",
       "      <th>created_time</th>\n",
       "      <th>Post_Date</th>\n",
       "      <th>Hour</th>\n",
       "      <th>Week</th>\n",
       "    </tr>\n",
       "  </thead>\n",
       "  <tbody>\n",
       "    <tr>\n",
       "      <th>0</th>\n",
       "      <td>2019-11-01 09:44:03</td>\n",
       "      <td>余天 Yu Tian</td>\n",
       "      <td>184889114896212</td>\n",
       "      <td>NaN</td>\n",
       "      <td>video</td>\n",
       "      <td>141559</td>\n",
       "      <td>131345</td>\n",
       "      <td>71</td>\n",
       "      <td>8086</td>\n",
       "      <td>34</td>\n",
       "      <td>...</td>\n",
       "      <td>20</td>\n",
       "      <td>14917</td>\n",
       "      <td>1975</td>\n",
       "      <td>「女兒妳堅強，我就放心」\\n「爸爸，你也要顧好自己的身體」\\n\\n擔心女兒化療吃不下\\n這幾...</td>\n",
       "      <td>NaN</td>\n",
       "      <td>NaN</td>\n",
       "      <td>1572572643000</td>\n",
       "      <td>2019/11/01</td>\n",
       "      <td>09</td>\n",
       "      <td>Friday</td>\n",
       "    </tr>\n",
       "  </tbody>\n",
       "</table>\n",
       "<p>1 rows × 21 columns</p>\n",
       "</div>"
      ],
      "text/plain": [
       "                 Date   Page_Name          Page_ID  Link   Type  \\\n",
       "0 2019-11-01 09:44:03  余天 Yu Tian  184889114896212   NaN  video   \n",
       "\n",
       "   All_Reaction_Count  LIKE_COUNT  WOW_COUNT  LOVE_COUNT  HAHA_COUNT  ...  \\\n",
       "0              141559      131345         71        8086          34  ...   \n",
       "\n",
       "   ANGRY_COUNT  Comment_Count  Share_Count  \\\n",
       "0           20          14917         1975   \n",
       "\n",
       "                                             Message Link_Title  \\\n",
       "0  「女兒妳堅強，我就放心」\\n「爸爸，你也要顧好自己的身體」\\n\\n擔心女兒化療吃不下\\n這幾...        NaN   \n",
       "\n",
       "  Link Description   created_time   Post_Date Hour    Week  \n",
       "0              NaN  1572572643000  2019/11/01   09  Friday  \n",
       "\n",
       "[1 rows x 21 columns]"
      ]
     },
     "execution_count": 27,
     "metadata": {},
     "output_type": "execute_result"
    }
   ],
   "source": [
    "df['Week'] = df['Date'].dt.strftime('%A')\n",
    "df.head(1)"
   ]
  },
  {
   "cell_type": "code",
   "execution_count": null,
   "metadata": {},
   "outputs": [],
   "source": [
    "to line chart"
   ]
  },
  {
   "cell_type": "code",
   "execution_count": 37,
   "metadata": {},
   "outputs": [
    {
     "name": "stdout",
     "output_type": "stream",
     "text": [
      "       Date  All_Reaction_Count  LIKE_COUNT  WOW_COUNT  HAHA_COUNT  SAD_COUNT  \\\n",
      "0   2019/01               19266       18519          7          59          5   \n",
      "1   2019/02               51914       49211         50         427         22   \n",
      "2   2019/03              117011      109701        131         996         90   \n",
      "3   2019/04               41244       40457         32         140          5   \n",
      "4   2019/05               18114       17286         28         199         35   \n",
      "5   2019/06               35651       34385         51         165         14   \n",
      "6   2019/07               21545       20896         32         147          2   \n",
      "7   2019/08               18158       17503         45          82         89   \n",
      "8   2019/09               19659       19201         12          81          1   \n",
      "9   2019/10               51284       47713         81          69       1084   \n",
      "10  2019/11              267494      252731        148         469       2053   \n",
      "11  2019/12              213181      204704        108        2041         74   \n",
      "12  2020/01              130550      125285         64         327        837   \n",
      "\n",
      "    ANGRY_COUNT  Comment_Count  Share_Count  \n",
      "0           130           1831          866  \n",
      "1            88           9947         3766  \n",
      "2           336          38296         8325  \n",
      "3            30           3921          796  \n",
      "4            25           3630          673  \n",
      "5            89           5359         1062  \n",
      "6             6           3265          495  \n",
      "7            58           2183          379  \n",
      "8            10           1668          375  \n",
      "9            37           7425         1080  \n",
      "10          189          32509         5215  \n",
      "11          324          22957         5124  \n",
      "12          194          13224         2480  \n"
     ]
    },
    {
     "name": "stderr",
     "output_type": "stream",
     "text": [
      "C:\\Users\\Archur\\anaconda3\\lib\\site-packages\\ipykernel_launcher.py:3: FutureWarning: Indexing with multiple keys (implicitly converted to a tuple of keys) will be deprecated, use a list instead.\n",
      "  This is separate from the ipykernel package so we can avoid doing imports until\n"
     ]
    },
    {
     "data": {
      "text/plain": [
       "<matplotlib.axes._subplots.AxesSubplot at 0x212d714f588>"
      ]
     },
     "execution_count": 37,
     "metadata": {},
     "output_type": "execute_result"
    },
    {
     "data": {
      "image/png": "[encoded data removed]",
      "text/plain": [
       "<Figure size 432x288 with 1 Axes>"
      ]
     },
     "metadata": {},
     "output_type": "display_data"
    }
   ],
   "source": [
    "df_yu = df[(df[\"Page_Name\"] == \"余天 Yu Tian\" )]\n",
    "\n",
    "like_yu = df_yu.groupby(df['Date'].dt.strftime('%Y/%m'))['All_Reaction_Count','LIKE_COUNT','WOW_COUNT','HAHA_COUNT','SAD_COUNT','ANGRY_COUNT','Comment_Count','Share_Count'].sum().reset_index()\n",
    "print(like_yu)\n",
    "\n",
    "like_yu.plot(x='Date',y=['LIKE_COUNT','Comment_Count','All_Reaction_Count'])"
   ]
  },
  {
   "cell_type": "markdown",
   "metadata": {},
   "source": [
    "## Daily posts count "
   ]
  },
  {
   "cell_type": "code",
   "execution_count": 38,
   "metadata": {},
   "outputs": [],
   "source": [
    "df_post = df.groupby(['Page_Name','Post_Date'])['LIKE_COUNT'].count().reset_index(name='count')"
   ]
  },
  {
   "cell_type": "code",
   "execution_count": 40,
   "metadata": {},
   "outputs": [
    {
     "data": {
      "text/html": [
       "<div>\n",
       "<style scoped>\n",
       "    .dataframe tbody tr th:only-of-type {\n",
       "        vertical-align: middle;\n",
       "    }\n",
       "\n",
       "    .dataframe tbody tr th {\n",
       "        vertical-align: top;\n",
       "    }\n",
       "\n",
       "    .dataframe thead th {\n",
       "        text-align: right;\n",
       "    }\n",
       "</style>\n",
       "<table border=\"1\" class=\"dataframe\">\n",
       "  <thead>\n",
       "    <tr style=\"text-align: right;\">\n",
       "      <th></th>\n",
       "      <th>Page_Name</th>\n",
       "      <th>Post_Date</th>\n",
       "      <th>count</th>\n",
       "    </tr>\n",
       "  </thead>\n",
       "  <tbody>\n",
       "    <tr>\n",
       "      <th>3569</th>\n",
       "      <td>柯志恩</td>\n",
       "      <td>2019/01/01</td>\n",
       "      <td>1</td>\n",
       "    </tr>\n",
       "    <tr>\n",
       "      <th>3570</th>\n",
       "      <td>柯志恩</td>\n",
       "      <td>2019/01/03</td>\n",
       "      <td>1</td>\n",
       "    </tr>\n",
       "    <tr>\n",
       "      <th>3571</th>\n",
       "      <td>柯志恩</td>\n",
       "      <td>2019/01/07</td>\n",
       "      <td>1</td>\n",
       "    </tr>\n",
       "    <tr>\n",
       "      <th>3572</th>\n",
       "      <td>柯志恩</td>\n",
       "      <td>2019/01/08</td>\n",
       "      <td>1</td>\n",
       "    </tr>\n",
       "    <tr>\n",
       "      <th>3573</th>\n",
       "      <td>柯志恩</td>\n",
       "      <td>2019/01/10</td>\n",
       "      <td>1</td>\n",
       "    </tr>\n",
       "    <tr>\n",
       "      <th>...</th>\n",
       "      <td>...</td>\n",
       "      <td>...</td>\n",
       "      <td>...</td>\n",
       "    </tr>\n",
       "    <tr>\n",
       "      <th>3880</th>\n",
       "      <td>柯志恩</td>\n",
       "      <td>2020/01/18</td>\n",
       "      <td>1</td>\n",
       "    </tr>\n",
       "    <tr>\n",
       "      <th>3881</th>\n",
       "      <td>柯志恩</td>\n",
       "      <td>2020/01/20</td>\n",
       "      <td>1</td>\n",
       "    </tr>\n",
       "    <tr>\n",
       "      <th>3882</th>\n",
       "      <td>柯志恩</td>\n",
       "      <td>2020/01/21</td>\n",
       "      <td>1</td>\n",
       "    </tr>\n",
       "    <tr>\n",
       "      <th>3883</th>\n",
       "      <td>柯志恩</td>\n",
       "      <td>2020/01/25</td>\n",
       "      <td>1</td>\n",
       "    </tr>\n",
       "    <tr>\n",
       "      <th>3884</th>\n",
       "      <td>柯志恩</td>\n",
       "      <td>2020/01/29</td>\n",
       "      <td>1</td>\n",
       "    </tr>\n",
       "  </tbody>\n",
       "</table>\n",
       "<p>316 rows × 3 columns</p>\n",
       "</div>"
      ],
      "text/plain": [
       "     Page_Name   Post_Date  count\n",
       "3569       柯志恩  2019/01/01      1\n",
       "3570       柯志恩  2019/01/03      1\n",
       "3571       柯志恩  2019/01/07      1\n",
       "3572       柯志恩  2019/01/08      1\n",
       "3573       柯志恩  2019/01/10      1\n",
       "...        ...         ...    ...\n",
       "3880       柯志恩  2020/01/18      1\n",
       "3881       柯志恩  2020/01/20      1\n",
       "3882       柯志恩  2020/01/21      1\n",
       "3883       柯志恩  2020/01/25      1\n",
       "3884       柯志恩  2020/01/29      1\n",
       "\n",
       "[316 rows x 3 columns]"
      ]
     },
     "execution_count": 40,
     "metadata": {},
     "output_type": "execute_result"
    }
   ],
   "source": [
    "df_ko= df_post[df_post['Page_Name']=='柯志恩']\n",
    "df_ko"
   ]
  },
  {
   "cell_type": "code",
   "execution_count": 42,
   "metadata": {},
   "outputs": [
    {
     "data": {
      "image/png": "[encoded data removed]",
      "text/plain": [
       "<Figure size 1080x288 with 1 Axes>"
      ]
     },
     "metadata": {},
     "output_type": "display_data"
    }
   ],
   "source": [
    "import matplotlib.ticker as ticker\n",
    "\n",
    "plt.figure(figsize=(15,4)) #設定圖表大小\n",
    "\n",
    "plt.title(\"Number of Post\") # 加標題\n",
    "plt.xlabel(\"Time\")          # 加x軸標題\n",
    "plt.ylabel(\"Number of Post\")        # 加y軸標題   \n",
    "\n",
    "plt.plot(df_ko['Post_Date'],df_ko['count'])\n",
    "plt.gca().xaxis.set_major_locator(ticker.MultipleLocator(40)) #調整x軸要顯示幾個值\n",
    "plt.show()"
   ]
  },
  {
   "cell_type": "markdown",
   "metadata": {},
   "source": [
    "## Monthly hot post"
   ]
  },
  {
   "cell_type": "code",
   "execution_count": 43,
   "metadata": {},
   "outputs": [
    {
     "data": {
      "text/html": [
       "<div>\n",
       "<style scoped>\n",
       "    .dataframe tbody tr th:only-of-type {\n",
       "        vertical-align: middle;\n",
       "    }\n",
       "\n",
       "    .dataframe tbody tr th {\n",
       "        vertical-align: top;\n",
       "    }\n",
       "\n",
       "    .dataframe thead th {\n",
       "        text-align: right;\n",
       "    }\n",
       "</style>\n",
       "<table border=\"1\" class=\"dataframe\">\n",
       "  <thead>\n",
       "    <tr style=\"text-align: right;\">\n",
       "      <th></th>\n",
       "      <th>Week</th>\n",
       "      <th>Hour</th>\n",
       "      <th>count</th>\n",
       "    </tr>\n",
       "  </thead>\n",
       "  <tbody>\n",
       "    <tr>\n",
       "      <th>0</th>\n",
       "      <td>Friday</td>\n",
       "      <td>00</td>\n",
       "      <td>31</td>\n",
       "    </tr>\n",
       "    <tr>\n",
       "      <th>1</th>\n",
       "      <td>Friday</td>\n",
       "      <td>01</td>\n",
       "      <td>4</td>\n",
       "    </tr>\n",
       "    <tr>\n",
       "      <th>2</th>\n",
       "      <td>Friday</td>\n",
       "      <td>02</td>\n",
       "      <td>2</td>\n",
       "    </tr>\n",
       "    <tr>\n",
       "      <th>3</th>\n",
       "      <td>Friday</td>\n",
       "      <td>03</td>\n",
       "      <td>2</td>\n",
       "    </tr>\n",
       "    <tr>\n",
       "      <th>4</th>\n",
       "      <td>Friday</td>\n",
       "      <td>05</td>\n",
       "      <td>5</td>\n",
       "    </tr>\n",
       "    <tr>\n",
       "      <th>...</th>\n",
       "      <td>...</td>\n",
       "      <td>...</td>\n",
       "      <td>...</td>\n",
       "    </tr>\n",
       "    <tr>\n",
       "      <th>153</th>\n",
       "      <td>Wednesday</td>\n",
       "      <td>19</td>\n",
       "      <td>116</td>\n",
       "    </tr>\n",
       "    <tr>\n",
       "      <th>154</th>\n",
       "      <td>Wednesday</td>\n",
       "      <td>20</td>\n",
       "      <td>118</td>\n",
       "    </tr>\n",
       "    <tr>\n",
       "      <th>155</th>\n",
       "      <td>Wednesday</td>\n",
       "      <td>21</td>\n",
       "      <td>107</td>\n",
       "    </tr>\n",
       "    <tr>\n",
       "      <th>156</th>\n",
       "      <td>Wednesday</td>\n",
       "      <td>22</td>\n",
       "      <td>66</td>\n",
       "    </tr>\n",
       "    <tr>\n",
       "      <th>157</th>\n",
       "      <td>Wednesday</td>\n",
       "      <td>23</td>\n",
       "      <td>31</td>\n",
       "    </tr>\n",
       "  </tbody>\n",
       "</table>\n",
       "<p>158 rows × 3 columns</p>\n",
       "</div>"
      ],
      "text/plain": [
       "          Week Hour  count\n",
       "0       Friday   00     31\n",
       "1       Friday   01      4\n",
       "2       Friday   02      2\n",
       "3       Friday   03      2\n",
       "4       Friday   05      5\n",
       "..         ...  ...    ...\n",
       "153  Wednesday   19    116\n",
       "154  Wednesday   20    118\n",
       "155  Wednesday   21    107\n",
       "156  Wednesday   22     66\n",
       "157  Wednesday   23     31\n",
       "\n",
       "[158 rows x 3 columns]"
      ]
     },
     "execution_count": 43,
     "metadata": {},
     "output_type": "execute_result"
    }
   ],
   "source": [
    "df_ko = df[df['Page_Name']=='柯志恩']\n",
    "df_post_ko = df.groupby(['Week','Hour'])['LIKE_COUNT'].count().reset_index(name='count')\n",
    "\n",
    "df_post_ko"
   ]
  },
  {
   "cell_type": "code",
   "execution_count": 44,
   "metadata": {},
   "outputs": [
    {
     "data": {
      "image/png": "[encoded data removed]",
      "text/plain": [
       "<Figure size 648x432 with 2 Axes>"
      ]
     },
     "metadata": {},
     "output_type": "display_data"
    }
   ],
   "source": [
    "flights = df_post_ko.pivot(\"Week\", \"Hour\", \"count\")\n",
    "# 畫出x-y-z的圖，比如 年-月-銷量 的熱圖\n",
    "f, ax = plt.subplots(figsize=(9, 6))\n",
    "#使用不同的顏色\n",
    "sns.heatmap(flights, fmt=\"d\",cmap='YlGnBu', ax=ax)\n",
    "#設置座標字體方向\n",
    "label_y = ax.get_yticklabels()\n",
    "plt.setp(label_y, rotation=360, horizontalalignment='right')\n",
    "label_x = ax.get_xticklabels()\n",
    "plt.setp(label_x, rotation=45, horizontalalignment='right')\n",
    "plt.show()"
   ]
  },
  {
   "cell_type": "code",
   "execution_count": null,
   "metadata": {},
   "outputs": [],
   "source": []
  }
 ],
 "metadata": {
  "kernelspec": {
   "display_name": "Python 3",
   "language": "python",
   "name": "python3"
  },
  "language_info": {
   "codemirror_mode": {
    "name": "ipython",
    "version": 3
   },
   "file_extension": ".py",
   "mimetype": "text/x-python",
   "name": "python",
   "nbconvert_exporter": "python",
   "pygments_lexer": "ipython3",
   "version": "3.7.6"
  }
 },
 "nbformat": 4,
 "nbformat_minor": 4
}
