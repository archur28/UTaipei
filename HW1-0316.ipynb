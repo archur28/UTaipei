{
 "cells": [
  {
   "cell_type": "code",
   "execution_count": 1,
   "metadata": {},
   "outputs": [
    {
     "name": "stdout",
     "output_type": "stream",
     "text": [
      "Requirement already satisfied: pandas in c:\\users\\archur\\anaconda3\\lib\\site-packages (1.0.1)\n",
      "Requirement already satisfied: pytz>=2017.2 in c:\\users\\archur\\anaconda3\\lib\\site-packages (from pandas) (2019.3)\n",
      "Requirement already satisfied: numpy>=1.13.3 in c:\\users\\archur\\anaconda3\\lib\\site-packages (from pandas) (1.18.1)\n",
      "Requirement already satisfied: python-dateutil>=2.6.1 in c:\\users\\archur\\anaconda3\\lib\\site-packages (from pandas) (2.8.1)\n",
      "Requirement already satisfied: six>=1.5 in c:\\users\\archur\\anaconda3\\lib\\site-packages (from python-dateutil>=2.6.1->pandas) (1.14.0)\n",
      "Note: you may need to restart the kernel to use updated packages.\n"
     ]
    }
   ],
   "source": [
    "pip install pandas  "
   ]
  },
  {
   "cell_type": "markdown",
   "metadata": {},
   "source": [
    "read csv "
   ]
  },
  {
   "cell_type": "code",
   "execution_count": 9,
   "metadata": {
    "collapsed": true
   },
   "outputs": [
    {
     "name": "stdout",
     "output_type": "stream",
     "text": [
      "                      Date   Page_Name          Page_ID  Link    Type  \\\n",
      "0      2019/11/01 09:44:03  余天 Yu Tian  184889114896212   NaN   video   \n",
      "1      2019/09/18 17:38:31         賴品妤  102499747817312   NaN   photo   \n",
      "2      2020/01/10 17:21:05  余天 Yu Tian  184889114896212   NaN   video   \n",
      "3      2020/01/07 22:41:02      羅致政粉絲團  182836328407031   NaN   video   \n",
      "4      2020/01/11 11:51:36         賴品妤  102499747817312   NaN   photo   \n",
      "...                    ...         ...              ...   ...     ...   \n",
      "12603  2019/12/03 20:47:57     黃志雄&洪佳君  192038527523436   NaN  status   \n",
      "12604  2019/12/07 17:59:37         羅明才  186040511466669   NaN  status   \n",
      "12605  2019/12/18 10:52:38  余天 Yu Tian  184889114896212   NaN   photo   \n",
      "12606  2019/12/18 21:47:32         柯志恩  911433142308383   NaN   photo   \n",
      "12607  2019/12/30 12:03:17         吳琪銘  622028857838106   NaN    link   \n",
      "\n",
      "       All_Reaction_Count  LIKE_COUNT  WOW_COUNT  LOVE_COUNT  HAHA_COUNT  \\\n",
      "0                  141559      131345         71        8086          34   \n",
      "1                   27126       23611         46        1647        1766   \n",
      "2                   22177       21529         11         456          22   \n",
      "3                   17915       17353         16         347         122   \n",
      "4                   19769       17059         13        1790         900   \n",
      "...                   ...         ...        ...         ...         ...   \n",
      "12603                   0           0          0           0           0   \n",
      "12604                   0           0          0           0           0   \n",
      "12605                   0           0          0           0           0   \n",
      "12606                   0           0          0           0           0   \n",
      "12607                   0           0          0           0           0   \n",
      "\n",
      "       SAD_COUNT  ANGRY_COUNT  Comment_Count  Share_Count  \\\n",
      "0           2003           20          14917         1975   \n",
      "1              5           51           1916         1444   \n",
      "2            120           39            785          278   \n",
      "3             10           67           1439         1034   \n",
      "4              2            5            857           86   \n",
      "...          ...          ...            ...          ...   \n",
      "12603          0            0              0            0   \n",
      "12604          0            0              0            0   \n",
      "12605          0            0              0            0   \n",
      "12606          0            0              0            0   \n",
      "12607          0            0              0            0   \n",
      "\n",
      "                                                 Message  \\\n",
      "0      「女兒妳堅強，我就放心」\\n「爸爸，你也要顧好自己的身體」\\n\\n擔心女兒化療吃不下\\n這幾...   \n",
      "1      很多人是從五年前的三一八運動才開始認識賴品妤，那天晚上我用雙手撐住立法院議場的大門，阻擋服貿...   \n",
      "2      選前之夜彩蛋搶先曝光！\\n\\n余天給三重的一封信！\\n余苑綺：爸爸加油！我一定會好起來，謝謝...   \n",
      "3      鍾年晃是資深媒體人，也是我的苗栗同鄉。\\n他來幫我助選時，說了一段發人深省話，他說：民進黨每...   \n",
      "4                                剛剛我已經把票投好囉😍\\n怎麼還有人沒出門勒😗   \n",
      "...                                                  ...   \n",
      "12603  \b#用熱情的力量翻轉地方\\n\\n有人形容，熱情就是太陽。因為在這個環境裡，熱情會延伸許多好的...   \n",
      "12604                                                NaN   \n",
      "12605                                                NaN   \n",
      "12606                                                NaN   \n",
      "12607  【又是假消息⚠️小編宣導時間】\\n\\n餒，聽說網路上流傳著「吸毒品無罪」及「持有3、4級毒品...   \n",
      "\n",
      "                     Link_Title Link Description   created_time  \n",
      "0                           NaN              NaN  1572572643000  \n",
      "1                           NaN              NaN  1568799511000  \n",
      "2                    余天給三重的一封信！              NaN  1578648065000  \n",
      "3        鍾年晃：下架吳斯懷還不夠，我們要下架國民黨！              NaN  1578408062000  \n",
      "4                           NaN              NaN  1578714696000  \n",
      "...                         ...              ...            ...  \n",
      "12603                       NaN              NaN  1575377277000  \n",
      "12604                       NaN              NaN  1575712777000  \n",
      "12605  余天 Yu Tian's cover photo              NaN  1576637558000  \n",
      "12606         柯志恩's cover photo              NaN  1576676852000  \n",
      "12607           縮短網址產生器 - reurl              NaN  1577678597000  \n",
      "\n",
      "[12608 rows x 18 columns]\n"
     ]
    }
   ],
   "source": [
    "import pandas as pd\n",
    "df = pd.read_csv(\"10802_2020 NewTaipeiCity Legislators candidates.csv\")\n",
    "print(df)"
   ]
  },
  {
   "cell_type": "code",
   "execution_count": 6,
   "metadata": {},
   "outputs": [
    {
     "data": {
      "text/html": [
       "<div>\n",
       "<style scoped>\n",
       "    .dataframe tbody tr th:only-of-type {\n",
       "        vertical-align: middle;\n",
       "    }\n",
       "\n",
       "    .dataframe tbody tr th {\n",
       "        vertical-align: top;\n",
       "    }\n",
       "\n",
       "    .dataframe thead th {\n",
       "        text-align: right;\n",
       "    }\n",
       "</style>\n",
       "<table border=\"1\" class=\"dataframe\">\n",
       "  <thead>\n",
       "    <tr style=\"text-align: right;\">\n",
       "      <th></th>\n",
       "      <th>Date</th>\n",
       "      <th>Page_Name</th>\n",
       "      <th>Page_ID</th>\n",
       "      <th>Link</th>\n",
       "      <th>Type</th>\n",
       "      <th>All_Reaction_Count</th>\n",
       "      <th>LIKE_COUNT</th>\n",
       "      <th>WOW_COUNT</th>\n",
       "      <th>LOVE_COUNT</th>\n",
       "      <th>HAHA_COUNT</th>\n",
       "      <th>SAD_COUNT</th>\n",
       "      <th>ANGRY_COUNT</th>\n",
       "      <th>Comment_Count</th>\n",
       "      <th>Share_Count</th>\n",
       "      <th>Message</th>\n",
       "      <th>Link_Title</th>\n",
       "      <th>Link Description</th>\n",
       "      <th>created_time</th>\n",
       "    </tr>\n",
       "  </thead>\n",
       "  <tbody>\n",
       "    <tr>\n",
       "      <th>0</th>\n",
       "      <td>2019/11/01 09:44:03</td>\n",
       "      <td>余天 Yu Tian</td>\n",
       "      <td>184889114896212</td>\n",
       "      <td>NaN</td>\n",
       "      <td>video</td>\n",
       "      <td>141559</td>\n",
       "      <td>131345</td>\n",
       "      <td>71</td>\n",
       "      <td>8086</td>\n",
       "      <td>34</td>\n",
       "      <td>2003</td>\n",
       "      <td>20</td>\n",
       "      <td>14917</td>\n",
       "      <td>1975</td>\n",
       "      <td>「女兒妳堅強，我就放心」\\n「爸爸，你也要顧好自己的身體」\\n\\n擔心女兒化療吃不下\\n這幾...</td>\n",
       "      <td>NaN</td>\n",
       "      <td>NaN</td>\n",
       "      <td>1572572643000</td>\n",
       "    </tr>\n",
       "    <tr>\n",
       "      <th>1</th>\n",
       "      <td>2019/09/18 17:38:31</td>\n",
       "      <td>賴品妤</td>\n",
       "      <td>102499747817312</td>\n",
       "      <td>NaN</td>\n",
       "      <td>photo</td>\n",
       "      <td>27126</td>\n",
       "      <td>23611</td>\n",
       "      <td>46</td>\n",
       "      <td>1647</td>\n",
       "      <td>1766</td>\n",
       "      <td>5</td>\n",
       "      <td>51</td>\n",
       "      <td>1916</td>\n",
       "      <td>1444</td>\n",
       "      <td>很多人是從五年前的三一八運動才開始認識賴品妤，那天晚上我用雙手撐住立法院議場的大門，阻擋服貿...</td>\n",
       "      <td>NaN</td>\n",
       "      <td>NaN</td>\n",
       "      <td>1568799511000</td>\n",
       "    </tr>\n",
       "    <tr>\n",
       "      <th>2</th>\n",
       "      <td>2020/01/10 17:21:05</td>\n",
       "      <td>余天 Yu Tian</td>\n",
       "      <td>184889114896212</td>\n",
       "      <td>NaN</td>\n",
       "      <td>video</td>\n",
       "      <td>22177</td>\n",
       "      <td>21529</td>\n",
       "      <td>11</td>\n",
       "      <td>456</td>\n",
       "      <td>22</td>\n",
       "      <td>120</td>\n",
       "      <td>39</td>\n",
       "      <td>785</td>\n",
       "      <td>278</td>\n",
       "      <td>選前之夜彩蛋搶先曝光！\\n\\n余天給三重的一封信！\\n余苑綺：爸爸加油！我一定會好起來，謝謝...</td>\n",
       "      <td>余天給三重的一封信！</td>\n",
       "      <td>NaN</td>\n",
       "      <td>1578648065000</td>\n",
       "    </tr>\n",
       "    <tr>\n",
       "      <th>3</th>\n",
       "      <td>2020/01/07 22:41:02</td>\n",
       "      <td>羅致政粉絲團</td>\n",
       "      <td>182836328407031</td>\n",
       "      <td>NaN</td>\n",
       "      <td>video</td>\n",
       "      <td>17915</td>\n",
       "      <td>17353</td>\n",
       "      <td>16</td>\n",
       "      <td>347</td>\n",
       "      <td>122</td>\n",
       "      <td>10</td>\n",
       "      <td>67</td>\n",
       "      <td>1439</td>\n",
       "      <td>1034</td>\n",
       "      <td>鍾年晃是資深媒體人，也是我的苗栗同鄉。\\n他來幫我助選時，說了一段發人深省話，他說：民進黨每...</td>\n",
       "      <td>鍾年晃：下架吳斯懷還不夠，我們要下架國民黨！</td>\n",
       "      <td>NaN</td>\n",
       "      <td>1578408062000</td>\n",
       "    </tr>\n",
       "    <tr>\n",
       "      <th>4</th>\n",
       "      <td>2020/01/11 11:51:36</td>\n",
       "      <td>賴品妤</td>\n",
       "      <td>102499747817312</td>\n",
       "      <td>NaN</td>\n",
       "      <td>photo</td>\n",
       "      <td>19769</td>\n",
       "      <td>17059</td>\n",
       "      <td>13</td>\n",
       "      <td>1790</td>\n",
       "      <td>900</td>\n",
       "      <td>2</td>\n",
       "      <td>5</td>\n",
       "      <td>857</td>\n",
       "      <td>86</td>\n",
       "      <td>剛剛我已經把票投好囉😍\\n怎麼還有人沒出門勒😗</td>\n",
       "      <td>NaN</td>\n",
       "      <td>NaN</td>\n",
       "      <td>1578714696000</td>\n",
       "    </tr>\n",
       "  </tbody>\n",
       "</table>\n",
       "</div>"
      ],
      "text/plain": [
       "                  Date   Page_Name          Page_ID  Link   Type  \\\n",
       "0  2019/11/01 09:44:03  余天 Yu Tian  184889114896212   NaN  video   \n",
       "1  2019/09/18 17:38:31         賴品妤  102499747817312   NaN  photo   \n",
       "2  2020/01/10 17:21:05  余天 Yu Tian  184889114896212   NaN  video   \n",
       "3  2020/01/07 22:41:02      羅致政粉絲團  182836328407031   NaN  video   \n",
       "4  2020/01/11 11:51:36         賴品妤  102499747817312   NaN  photo   \n",
       "\n",
       "   All_Reaction_Count  LIKE_COUNT  WOW_COUNT  LOVE_COUNT  HAHA_COUNT  \\\n",
       "0              141559      131345         71        8086          34   \n",
       "1               27126       23611         46        1647        1766   \n",
       "2               22177       21529         11         456          22   \n",
       "3               17915       17353         16         347         122   \n",
       "4               19769       17059         13        1790         900   \n",
       "\n",
       "   SAD_COUNT  ANGRY_COUNT  Comment_Count  Share_Count  \\\n",
       "0       2003           20          14917         1975   \n",
       "1          5           51           1916         1444   \n",
       "2        120           39            785          278   \n",
       "3         10           67           1439         1034   \n",
       "4          2            5            857           86   \n",
       "\n",
       "                                             Message              Link_Title  \\\n",
       "0  「女兒妳堅強，我就放心」\\n「爸爸，你也要顧好自己的身體」\\n\\n擔心女兒化療吃不下\\n這幾...                     NaN   \n",
       "1  很多人是從五年前的三一八運動才開始認識賴品妤，那天晚上我用雙手撐住立法院議場的大門，阻擋服貿...                     NaN   \n",
       "2  選前之夜彩蛋搶先曝光！\\n\\n余天給三重的一封信！\\n余苑綺：爸爸加油！我一定會好起來，謝謝...              余天給三重的一封信！   \n",
       "3  鍾年晃是資深媒體人，也是我的苗栗同鄉。\\n他來幫我助選時，說了一段發人深省話，他說：民進黨每...  鍾年晃：下架吳斯懷還不夠，我們要下架國民黨！   \n",
       "4                            剛剛我已經把票投好囉😍\\n怎麼還有人沒出門勒😗                     NaN   \n",
       "\n",
       "  Link Description   created_time  \n",
       "0              NaN  1572572643000  \n",
       "1              NaN  1568799511000  \n",
       "2              NaN  1578648065000  \n",
       "3              NaN  1578408062000  \n",
       "4              NaN  1578714696000  "
      ]
     },
     "execution_count": 6,
     "metadata": {},
     "output_type": "execute_result"
    }
   ],
   "source": [
    "df.head()"
   ]
  },
  {
   "cell_type": "code",
   "execution_count": 16,
   "metadata": {},
   "outputs": [],
   "source": [
    "Candidates = df.groupby(\"Page_Name\")"
   ]
  },
  {
   "cell_type": "code",
   "execution_count": 14,
   "metadata": {},
   "outputs": [],
   "source": [
    "P1 = Candidates.get_group(\"余天 Yu Tian\")['LIKE_COUNT'].agg('sum')"
   ]
  },
  {
   "cell_type": "code",
   "execution_count": 24,
   "metadata": {},
   "outputs": [],
   "source": [
    "P2 = Candidates.get_group(\"賴品妤\")['LIKE_COUNT'].agg('sum')"
   ]
  },
  {
   "cell_type": "code",
   "execution_count": 18,
   "metadata": {},
   "outputs": [],
   "source": [
    "P3 = Candidates.get_group(\"羅致政粉絲團\")['LIKE_COUNT'].agg('sum')"
   ]
  },
  {
   "cell_type": "code",
   "execution_count": 19,
   "metadata": {},
   "outputs": [],
   "source": [
    "P4 = Candidates.get_group(\"黃志雄&洪佳君\")['LIKE_COUNT'].agg('sum')"
   ]
  },
  {
   "cell_type": "code",
   "execution_count": 20,
   "metadata": {},
   "outputs": [],
   "source": [
    "P5 = Candidates.get_group(\"羅明才\")['LIKE_COUNT'].agg('sum')"
   ]
  },
  {
   "cell_type": "code",
   "execution_count": 21,
   "metadata": {},
   "outputs": [],
   "source": [
    "P6 = Candidates.get_group(\"柯志恩\")['LIKE_COUNT'].agg('sum')"
   ]
  },
  {
   "cell_type": "code",
   "execution_count": 22,
   "metadata": {},
   "outputs": [],
   "source": [
    "P7 = Candidates.get_group(\"吳琪銘\")['LIKE_COUNT'].agg('sum')"
   ]
  },
  {
   "cell_type": "code",
   "execution_count": 25,
   "metadata": {},
   "outputs": [],
   "source": [
    "P8 = Candidates.get_group(\"余天 Yu Tian\")['Share_Count'].agg('sum')"
   ]
  },
  {
   "cell_type": "code",
   "execution_count": 26,
   "metadata": {},
   "outputs": [],
   "source": [
    "P9 = Candidates.get_group(\"賴品妤\")['Share_Count'].agg('sum')"
   ]
  },
  {
   "cell_type": "code",
   "execution_count": 27,
   "metadata": {},
   "outputs": [],
   "source": [
    "P10 = Candidates.get_group(\"羅致政粉絲團\")['Share_Count'].agg('sum')"
   ]
  },
  {
   "cell_type": "code",
   "execution_count": 28,
   "metadata": {},
   "outputs": [],
   "source": [
    "P11 = Candidates.get_group(\"黃志雄&洪佳君\")['Share_Count'].agg('sum')"
   ]
  },
  {
   "cell_type": "code",
   "execution_count": 29,
   "metadata": {},
   "outputs": [],
   "source": [
    "P12 = Candidates.get_group(\"羅明才\")['Share_Count'].agg('sum')"
   ]
  },
  {
   "cell_type": "code",
   "execution_count": 30,
   "metadata": {},
   "outputs": [],
   "source": [
    "P13 = Candidates.get_group(\"柯志恩\")['Share_Count'].agg('sum')"
   ]
  },
  {
   "cell_type": "code",
   "execution_count": 31,
   "metadata": {},
   "outputs": [],
   "source": [
    "P14 = Candidates.get_group(\"吳琪銘\")['Share_Count'].agg('sum')"
   ]
  },
  {
   "cell_type": "code",
   "execution_count": 34,
   "metadata": {},
   "outputs": [],
   "source": [
    "data = {'Name':['Yu Tian', 'Lai27', 'LoChiCheng', 'Huang&Hong', 'LoMinChia', 'KoChiAn', 'WuChiMin'],\n",
    "        'Like':[P1, P2, P3, P4, P5, P6, P7], 'Share':[P8, P9, P10, P11, P12, P13, P14]}"
   ]
  },
  {
   "cell_type": "code",
   "execution_count": 35,
   "metadata": {},
   "outputs": [],
   "source": [
    "LikeNShareData = pd.DataFrame(data)"
   ]
  },
  {
   "cell_type": "code",
   "execution_count": 47,
   "metadata": {},
   "outputs": [
    {
     "data": {
      "text/html": [
       "<div>\n",
       "<style scoped>\n",
       "    .dataframe tbody tr th:only-of-type {\n",
       "        vertical-align: middle;\n",
       "    }\n",
       "\n",
       "    .dataframe tbody tr th {\n",
       "        vertical-align: top;\n",
       "    }\n",
       "\n",
       "    .dataframe thead th {\n",
       "        text-align: right;\n",
       "    }\n",
       "</style>\n",
       "<table border=\"1\" class=\"dataframe\">\n",
       "  <thead>\n",
       "    <tr style=\"text-align: right;\">\n",
       "      <th></th>\n",
       "      <th>Name</th>\n",
       "      <th>Like</th>\n",
       "      <th>Share</th>\n",
       "    </tr>\n",
       "  </thead>\n",
       "  <tbody>\n",
       "    <tr>\n",
       "      <th>0</th>\n",
       "      <td>Yu Tian</td>\n",
       "      <td>957592</td>\n",
       "      <td>30636</td>\n",
       "    </tr>\n",
       "    <tr>\n",
       "      <th>1</th>\n",
       "      <td>Lai27</td>\n",
       "      <td>909296</td>\n",
       "      <td>24206</td>\n",
       "    </tr>\n",
       "    <tr>\n",
       "      <th>2</th>\n",
       "      <td>LoChiCheng</td>\n",
       "      <td>721684</td>\n",
       "      <td>14172</td>\n",
       "    </tr>\n",
       "    <tr>\n",
       "      <th>3</th>\n",
       "      <td>Huang&amp;Hong</td>\n",
       "      <td>69992</td>\n",
       "      <td>1568</td>\n",
       "    </tr>\n",
       "    <tr>\n",
       "      <th>4</th>\n",
       "      <td>LoMinChia</td>\n",
       "      <td>51918</td>\n",
       "      <td>1218</td>\n",
       "    </tr>\n",
       "    <tr>\n",
       "      <th>5</th>\n",
       "      <td>KoChiAn</td>\n",
       "      <td>1414383</td>\n",
       "      <td>27846</td>\n",
       "    </tr>\n",
       "    <tr>\n",
       "      <th>6</th>\n",
       "      <td>WuChiMin</td>\n",
       "      <td>327794</td>\n",
       "      <td>8287</td>\n",
       "    </tr>\n",
       "  </tbody>\n",
       "</table>\n",
       "</div>"
      ],
      "text/plain": [
       "         Name     Like  Share\n",
       "0     Yu Tian   957592  30636\n",
       "1       Lai27   909296  24206\n",
       "2  LoChiCheng   721684  14172\n",
       "3  Huang&Hong    69992   1568\n",
       "4   LoMinChia    51918   1218\n",
       "5     KoChiAn  1414383  27846\n",
       "6    WuChiMin   327794   8287"
      ]
     },
     "execution_count": 47,
     "metadata": {},
     "output_type": "execute_result"
    }
   ],
   "source": [
    "LikeNShareData"
   ]
  },
  {
   "cell_type": "code",
   "execution_count": 48,
   "metadata": {},
   "outputs": [
    {
     "data": {
      "text/plain": [
       "<matplotlib.axes._subplots.AxesSubplot at 0x13bfbe85848>"
      ]
     },
     "execution_count": 48,
     "metadata": {},
     "output_type": "execute_result"
    },
    {
     "data": {
      "image/png": "[encoded data removed]",
      "text/plain": [
       "<Figure size 432x288 with 1 Axes>"
      ]
     },
     "metadata": {
      "needs_background": "light"
     },
     "output_type": "display_data"
    }
   ],
   "source": [
    "LikeNShareData.plot.bar(x='Name', y='Like')"
   ]
  },
  {
   "cell_type": "code",
   "execution_count": 49,
   "metadata": {},
   "outputs": [],
   "source": [
    "import numpy as np\n",
    "import matplotlib.pyplot as plt"
   ]
  },
  {
   "cell_type": "code",
   "execution_count": 56,
   "metadata": {
    "scrolled": true
   },
   "outputs": [
    {
     "data": {
      "text/plain": [
       "<matplotlib.axes._subplots.AxesSubplot at 0x13bfd1d4f08>"
      ]
     },
     "execution_count": 56,
     "metadata": {},
     "output_type": "execute_result"
    },
    {
     "data": {
      "image/png": "[encoded data removed]",
      "text/plain": [
       "<Figure size 432x288 with 1 Axes>"
      ]
     },
     "metadata": {
      "needs_background": "light"
     },
     "output_type": "display_data"
    }
   ],
   "source": [
    "LikeNShareData.plot.bar(x='Name', y='Share', color=['red','green','blue','black','pink','yellow','grey'])"
   ]
  },
  {
   "cell_type": "code",
   "execution_count": null,
   "metadata": {},
   "outputs": [],
   "source": []
  }
 ],
 "metadata": {
  "kernelspec": {
   "display_name": "Python 3",
   "language": "python",
   "name": "python3"
  },
  "language_info": {
   "codemirror_mode": {
    "name": "ipython",
    "version": 3
   },
   "file_extension": ".py",
   "mimetype": "text/x-python",
   "name": "python",
   "nbconvert_exporter": "python",
   "pygments_lexer": "ipython3",
   "version": "3.7.6"
  }
 },
 "nbformat": 4,
 "nbformat_minor": 4
}
